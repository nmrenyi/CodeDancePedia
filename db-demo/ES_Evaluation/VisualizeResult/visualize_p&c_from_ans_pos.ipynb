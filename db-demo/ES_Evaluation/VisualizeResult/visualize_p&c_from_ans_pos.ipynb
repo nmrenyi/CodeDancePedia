{
 "cells": [
  {
   "cell_type": "code",
   "execution_count": 137,
   "metadata": {
    "collapsed": true
   },
   "outputs": [],
   "source": [
    "import pandas as pd\n",
    "import numpy as np\n",
    "import json\n",
    "import seaborn as sns\n",
    "import matplotlib.pyplot as plt\n"
   ]
  },
  {
   "cell_type": "code",
   "execution_count": 138,
   "outputs": [],
   "source": [
    "def calc_precision_k(ans_pos_list, k):\n",
    "    precision_sum = 0.0\n",
    "    for ans_pos in ans_pos_list:\n",
    "        np_ans_pos = np.array(json.loads(ans_pos))\n",
    "        precision_sum += len(np_ans_pos[np_ans_pos <= k]) / k\n",
    "    return precision_sum / len(ans_pos_list)"
   ],
   "metadata": {
    "collapsed": false,
    "pycharm": {
     "name": "#%%\n"
    }
   }
  },
  {
   "cell_type": "code",
   "execution_count": 139,
   "outputs": [],
   "source": [
    "def calc_recall_k(ans_pos_list, total_relevant_list, k):\n",
    "    recall_sum = 0.0\n",
    "    for i, ans_pos in enumerate(ans_pos_list):\n",
    "        np_ans_pos = np.array(json.loads(ans_pos))\n",
    "        recall_sum += len(np_ans_pos[np_ans_pos <= k]) / total_relevant_list[i]\n",
    "    return recall_sum / len(ans_pos_list)"
   ],
   "metadata": {
    "collapsed": false,
    "pycharm": {
     "name": "#%%\n"
    }
   }
  },
  {
   "cell_type": "code",
   "execution_count": 140,
   "outputs": [
    {
     "name": "stdout",
     "output_type": "stream",
     "text": [
      "<class 'pandas.core.frame.DataFrame'>\n",
      "Int64Index: 9858 entries, 4858963 to 6400825\n",
      "Data columns (total 6 columns):\n",
      " #   Column              Non-Null Count  Dtype \n",
      "---  ------              --------------  ----- \n",
      " 0   question            9858 non-null   object\n",
      " 1   total_relevant_cnt  9858 non-null   int64 \n",
      " 2   retrieved_rela_cnt  9858 non-null   int64 \n",
      " 3   ans_pos             9858 non-null   object\n",
      " 4   src                 9858 non-null   object\n",
      " 5   ground_truth        9858 non-null   object\n",
      "dtypes: int64(2), object(4)\n",
      "memory usage: 539.1+ KB\n"
     ]
    }
   ],
   "source": [
    "df = pd.read_csv('../DuReader_reformatted/DuReader_for_db-sample10000-anspos.csv', sep='\\t', index_col=0)\n",
    "df.info()\n"
   ],
   "metadata": {
    "collapsed": false,
    "pycharm": {
     "name": "#%%\n"
    }
   }
  },
  {
   "cell_type": "code",
   "execution_count": 141,
   "outputs": [],
   "source": [
    "precision_list = [calc_precision_k(df['ans_pos'].tolist(), k) for k in range(1, 11)]\n",
    "recall_list = [calc_recall_k(df['ans_pos'].tolist(), df['total_relevant_cnt'].tolist(), k) for k in range(1, 11)]\n"
   ],
   "metadata": {
    "collapsed": false,
    "pycharm": {
     "name": "#%%\n"
    }
   }
  },
  {
   "cell_type": "code",
   "execution_count": 142,
   "outputs": [
    {
     "data": {
      "text/plain": "   precision    recall   k\n0   0.548286  0.014555   1\n1   0.539968  0.028377   2\n2   0.531886  0.041942   3\n3   0.525360  0.055104   4\n4   0.518969  0.067511   5\n5   0.514235  0.079562   6\n6   0.509188  0.091195   7\n7   0.504425  0.102269   8\n8   0.499820  0.112789   9\n9   0.495364  0.122586  10",
      "text/html": "<div>\n<style scoped>\n    .dataframe tbody tr th:only-of-type {\n        vertical-align: middle;\n    }\n\n    .dataframe tbody tr th {\n        vertical-align: top;\n    }\n\n    .dataframe thead th {\n        text-align: right;\n    }\n</style>\n<table border=\"1\" class=\"dataframe\">\n  <thead>\n    <tr style=\"text-align: right;\">\n      <th></th>\n      <th>precision</th>\n      <th>recall</th>\n      <th>k</th>\n    </tr>\n  </thead>\n  <tbody>\n    <tr>\n      <th>0</th>\n      <td>0.548286</td>\n      <td>0.014555</td>\n      <td>1</td>\n    </tr>\n    <tr>\n      <th>1</th>\n      <td>0.539968</td>\n      <td>0.028377</td>\n      <td>2</td>\n    </tr>\n    <tr>\n      <th>2</th>\n      <td>0.531886</td>\n      <td>0.041942</td>\n      <td>3</td>\n    </tr>\n    <tr>\n      <th>3</th>\n      <td>0.525360</td>\n      <td>0.055104</td>\n      <td>4</td>\n    </tr>\n    <tr>\n      <th>4</th>\n      <td>0.518969</td>\n      <td>0.067511</td>\n      <td>5</td>\n    </tr>\n    <tr>\n      <th>5</th>\n      <td>0.514235</td>\n      <td>0.079562</td>\n      <td>6</td>\n    </tr>\n    <tr>\n      <th>6</th>\n      <td>0.509188</td>\n      <td>0.091195</td>\n      <td>7</td>\n    </tr>\n    <tr>\n      <th>7</th>\n      <td>0.504425</td>\n      <td>0.102269</td>\n      <td>8</td>\n    </tr>\n    <tr>\n      <th>8</th>\n      <td>0.499820</td>\n      <td>0.112789</td>\n      <td>9</td>\n    </tr>\n    <tr>\n      <th>9</th>\n      <td>0.495364</td>\n      <td>0.122586</td>\n      <td>10</td>\n    </tr>\n  </tbody>\n</table>\n</div>"
     },
     "execution_count": 142,
     "metadata": {},
     "output_type": "execute_result"
    }
   ],
   "source": [
    "pr_info_df = pd.DataFrame({'precision': precision_list, 'recall': recall_list, 'k': [k for k in range(1, 11)]})\n",
    "pr_info_df\n"
   ],
   "metadata": {
    "collapsed": false,
    "pycharm": {
     "name": "#%%\n"
    }
   }
  },
  {
   "cell_type": "code",
   "execution_count": 143,
   "outputs": [
    {
     "data": {
      "text/plain": "<Figure size 432x288 with 1 Axes>",
      "image/png": "[encoded data removed]"
     },
     "metadata": {
      "needs_background": "light"
     },
     "output_type": "display_data"
    }
   ],
   "source": [
    "sns.lineplot(data=pd.melt(pr_info_df, ['k']), x=\"k\", y='value', hue=\"variable\", style=\"variable\", markers=True, dashes=False)\n",
    "title_str = 'Precision & Recall @ k (10000 Queries)'\n",
    "result_str = 'AvgPrecision' + str(round(precision_list[-1], 4)) + ' AvgRecall:' + str(round(recall_list[-1], 4))\n",
    "plt.title(title_str + '\\n' + result_str)\n",
    "plt.grid()\n",
    "plt.savefig('./DuReader/'+ title_str.replace(' ', '-') +'.png', dpi=300)"
   ],
   "metadata": {
    "collapsed": false,
    "pycharm": {
     "name": "#%%\n"
    }
   }
  },
  {
   "cell_type": "code",
   "execution_count": 143,
   "outputs": [],
   "source": [
    "\n"
   ],
   "metadata": {
    "collapsed": false,
    "pycharm": {
     "name": "#%%\n"
    }
   }
  }
 ],
 "metadata": {
  "kernelspec": {
   "name": "python37364bitbaseconda17ad6249b02940119d559e8800b5bbf8",
   "language": "python",
   "display_name": "Python 3.7.3 64-bit ('base': conda)"
  },
  "language_info": {
   "codemirror_mode": {
    "name": "ipython",
    "version": 2
   },
   "file_extension": ".py",
   "mimetype": "text/x-python",
   "name": "python",
   "nbconvert_exporter": "python",
   "pygments_lexer": "ipython2",
   "version": "2.7.6"
  }
 },
 "nbformat": 4,
 "nbformat_minor": 0
}