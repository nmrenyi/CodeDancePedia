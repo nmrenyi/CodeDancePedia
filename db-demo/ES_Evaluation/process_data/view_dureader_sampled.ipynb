{
 "cells": [
  {
   "cell_type": "code",
   "execution_count": 6,
   "metadata": {
    "collapsed": true
   },
   "outputs": [],
   "source": [
    "import pandas as pd"
   ]
  },
  {
   "cell_type": "code",
   "execution_count": 7,
   "outputs": [
    {
     "name": "stdout",
     "output_type": "stream",
     "text": [
      "<class 'pandas.core.frame.DataFrame'>\n",
      "Int64Index: 97 entries, 4858963 to 11350808\n",
      "Data columns (total 5 columns):\n",
      " #   Column        Non-Null Count  Dtype \n",
      "---  ------        --------------  ----- \n",
      " 0   question      97 non-null     object\n",
      " 1   doc_title     97 non-null     object\n",
      " 2   src           97 non-null     object\n",
      " 3   ground_truth  97 non-null     object\n",
      " 4   ans_pos       97 non-null     object\n",
      "dtypes: object(5)\n",
      "memory usage: 4.5+ KB\n"
     ]
    }
   ],
   "source": [
    "df = pd.read_csv('../DuReader_reformatted/DuReader_for_db-sample100-anspos.csv', sep='\\t', index_col=0)\n",
    "df.info()"
   ],
   "metadata": {
    "collapsed": false,
    "pycharm": {
     "name": "#%%\n"
    }
   }
  },
  {
   "cell_type": "code",
   "execution_count": 8,
   "outputs": [
    {
     "name": "stdout",
     "output_type": "stream",
     "text": [
      "<class 'pandas.core.frame.DataFrame'>\n",
      "Int64Index: 97 entries, 4858963 to 11350808\n",
      "Data columns (total 5 columns):\n",
      " #   Column        Non-Null Count  Dtype \n",
      "---  ------        --------------  ----- \n",
      " 0   question      97 non-null     object\n",
      " 1   doc_title     97 non-null     object\n",
      " 2   src           97 non-null     object\n",
      " 3   ground_truth  97 non-null     object\n",
      " 4   ans_pos       97 non-null     object\n",
      "dtypes: object(5)\n",
      "memory usage: 4.5+ KB\n"
     ]
    }
   ],
   "source": [
    "df.dropna().info()"
   ],
   "metadata": {
    "collapsed": false,
    "pycharm": {
     "name": "#%%\n"
    }
   }
  },
  {
   "cell_type": "code",
   "execution_count": 9,
   "outputs": [
    {
     "data": {
      "text/plain": "97"
     },
     "execution_count": 9,
     "metadata": {},
     "output_type": "execute_result"
    }
   ],
   "source": [
    "len(set(df['question']))"
   ],
   "metadata": {
    "collapsed": false,
    "pycharm": {
     "name": "#%%\n"
    }
   }
  },
  {
   "cell_type": "code",
   "execution_count": 10,
   "outputs": [
    {
     "data": {
      "text/plain": "              question                                     doc_title  \\\n4858963     怎么锻炼语言表达能力                                怎样提升自己的语言表达能力    \n434828         化妆卡粉怎么办                  化妆卡粉怎么办 7大妙招教你怎么化妆不卡粉【东方女性网】   \n6638285        带恩的女孩名字                                   带恩字的女孩名字大全    \n3619185          辣椒排行榜             辣椒品种大全 辣椒酱品牌十大排行榜 关于辣椒的这些知识你都知道吗?   \n1049629           开车技巧                              新手开车/停车技巧(真实图解)    \n...                ...                                           ...   \n9600978       ac68u 温度  天气渐凉,AC68U的温度终于在40℃以下了 - 网络设备 - KoolShare -    \n5532576    360怎样关闭漏洞修复                 360安全卫士怎么关闭漏洞修复提醒 漏洞修复关闭方法介绍    \n2394760        lol封号客服                    LOL被封号怎么解封?LOL被封号怎么申诉?_腾牛网   \n3578838      甲状腺结节大小范围                       甲状腺结节大小多少算大?_有问必答_快速问医生   \n11350808  三叉神经微血管减压术费用                      微血管减压术治三叉神经痛需要多少钱？能报销吗？    \n\n                   src                                       ground_truth  \\\n4858963   search.train  [\"3\", \"语言沟通技巧培训\", \"善于推销自己\", \"和陌生人交流，要学会推销自己。当两...   \n434828    search.train  [\"百度经验:jingyan.baidu.com\", \"超人气伪素颜,骗过了多少直男以为是没...   \n6638285   search.train  [\"带恩字的女孩名字，汉语文字就是这么博大精深。一个恩字，拆解成因和心两个部分，就合成了对感...   \n3619185   search.train  [\"> 世界之最 > 植物之最 > 世界最辣辣椒诞生,世界十大最辣辣椒排行榜\", \"英国威尔...   \n1049629   search.train  [\"易车热点 Ozel传春节开车回家必备秘笈 标签:春节 开车 回家  时长:09:54来自...   \n...                ...                                                ...   \n9600978     search.dev  [\"看了看我的de2700,更加不用担心了。\", \"精华 0\", \"门户文章 0\", \"魔力...   \n5532576   search.train  [\"(55)360安全卫士360安全卫士可以说是国内装机最多的一款电脑卫士软件了，当年杀软普...   \n2394760   search.train  [\"封号处罚是针对账号,因为账号无论是谁操作,只要违规都会对游戏竞技环境带来影响或损害其他玩...   \n3578838   search.train  [\"甲状腺结节编辑 锁定\", \"甲状腺结节是指在甲状腺内的肿块,可随吞咽动作随甲状腺而上下移...   \n11350808   search.test  [\"最近特别疼。谁做过这个手术。复发几率大么？\", \"我妈做过，就管2月，我感觉这个手术能不...   \n\n                                  ans_pos  \n4858963                                []  \n434828    [1, 2, 3, 4, 5, 6, 7, 8, 9, 10]  \n6638285   [1, 2, 3, 4, 5, 6, 7, 8, 9, 10]  \n3619185                  [1, 4, 5, 9, 10]  \n1049629                      [4, 5, 8, 9]  \n...                                   ...  \n9600978         [1, 4, 5, 6, 7, 8, 9, 10]  \n5532576                     [7, 8, 9, 10]  \n2394760                         [2, 5, 6]  \n3578838                                []  \n11350808        [3, 4, 5, 6, 7, 8, 9, 10]  \n\n[97 rows x 5 columns]",
      "text/html": "<div>\n<style scoped>\n    .dataframe tbody tr th:only-of-type {\n        vertical-align: middle;\n    }\n\n    .dataframe tbody tr th {\n        vertical-align: top;\n    }\n\n    .dataframe thead th {\n        text-align: right;\n    }\n</style>\n<table border=\"1\" class=\"dataframe\">\n  <thead>\n    <tr style=\"text-align: right;\">\n      <th></th>\n      <th>question</th>\n      <th>doc_title</th>\n      <th>src</th>\n      <th>ground_truth</th>\n      <th>ans_pos</th>\n    </tr>\n  </thead>\n  <tbody>\n    <tr>\n      <th>4858963</th>\n      <td>怎么锻炼语言表达能力</td>\n      <td>怎样提升自己的语言表达能力</td>\n      <td>search.train</td>\n      <td>[\"3\", \"语言沟通技巧培训\", \"善于推销自己\", \"和陌生人交流，要学会推销自己。当两...</td>\n      <td>[]</td>\n    </tr>\n    <tr>\n      <th>434828</th>\n      <td>化妆卡粉怎么办</td>\n      <td>化妆卡粉怎么办 7大妙招教你怎么化妆不卡粉【东方女性网】</td>\n      <td>search.train</td>\n      <td>[\"百度经验:jingyan.baidu.com\", \"超人气伪素颜,骗过了多少直男以为是没...</td>\n      <td>[1, 2, 3, 4, 5, 6, 7, 8, 9, 10]</td>\n    </tr>\n    <tr>\n      <th>6638285</th>\n      <td>带恩的女孩名字</td>\n      <td>带恩字的女孩名字大全</td>\n      <td>search.train</td>\n      <td>[\"带恩字的女孩名字，汉语文字就是这么博大精深。一个恩字，拆解成因和心两个部分，就合成了对感...</td>\n      <td>[1, 2, 3, 4, 5, 6, 7, 8, 9, 10]</td>\n    </tr>\n    <tr>\n      <th>3619185</th>\n      <td>辣椒排行榜</td>\n      <td>辣椒品种大全 辣椒酱品牌十大排行榜 关于辣椒的这些知识你都知道吗?</td>\n      <td>search.train</td>\n      <td>[\"&gt; 世界之最 &gt; 植物之最 &gt; 世界最辣辣椒诞生,世界十大最辣辣椒排行榜\", \"英国威尔...</td>\n      <td>[1, 4, 5, 9, 10]</td>\n    </tr>\n    <tr>\n      <th>1049629</th>\n      <td>开车技巧</td>\n      <td>新手开车/停车技巧(真实图解)</td>\n      <td>search.train</td>\n      <td>[\"易车热点 Ozel传春节开车回家必备秘笈 标签:春节 开车 回家  时长:09:54来自...</td>\n      <td>[4, 5, 8, 9]</td>\n    </tr>\n    <tr>\n      <th>...</th>\n      <td>...</td>\n      <td>...</td>\n      <td>...</td>\n      <td>...</td>\n      <td>...</td>\n    </tr>\n    <tr>\n      <th>9600978</th>\n      <td>ac68u 温度</td>\n      <td>天气渐凉,AC68U的温度终于在40℃以下了 - 网络设备 - KoolShare -</td>\n      <td>search.dev</td>\n      <td>[\"看了看我的de2700,更加不用担心了。\", \"精华 0\", \"门户文章 0\", \"魔力...</td>\n      <td>[1, 4, 5, 6, 7, 8, 9, 10]</td>\n    </tr>\n    <tr>\n      <th>5532576</th>\n      <td>360怎样关闭漏洞修复</td>\n      <td>360安全卫士怎么关闭漏洞修复提醒 漏洞修复关闭方法介绍</td>\n      <td>search.train</td>\n      <td>[\"(55)360安全卫士360安全卫士可以说是国内装机最多的一款电脑卫士软件了，当年杀软普...</td>\n      <td>[7, 8, 9, 10]</td>\n    </tr>\n    <tr>\n      <th>2394760</th>\n      <td>lol封号客服</td>\n      <td>LOL被封号怎么解封?LOL被封号怎么申诉?_腾牛网</td>\n      <td>search.train</td>\n      <td>[\"封号处罚是针对账号,因为账号无论是谁操作,只要违规都会对游戏竞技环境带来影响或损害其他玩...</td>\n      <td>[2, 5, 6]</td>\n    </tr>\n    <tr>\n      <th>3578838</th>\n      <td>甲状腺结节大小范围</td>\n      <td>甲状腺结节大小多少算大?_有问必答_快速问医生</td>\n      <td>search.train</td>\n      <td>[\"甲状腺结节编辑 锁定\", \"甲状腺结节是指在甲状腺内的肿块,可随吞咽动作随甲状腺而上下移...</td>\n      <td>[]</td>\n    </tr>\n    <tr>\n      <th>11350808</th>\n      <td>三叉神经微血管减压术费用</td>\n      <td>微血管减压术治三叉神经痛需要多少钱？能报销吗？</td>\n      <td>search.test</td>\n      <td>[\"最近特别疼。谁做过这个手术。复发几率大么？\", \"我妈做过，就管2月，我感觉这个手术能不...</td>\n      <td>[3, 4, 5, 6, 7, 8, 9, 10]</td>\n    </tr>\n  </tbody>\n</table>\n<p>97 rows × 5 columns</p>\n</div>"
     },
     "execution_count": 10,
     "metadata": {},
     "output_type": "execute_result"
    }
   ],
   "source": [
    "df\n",
    "\n"
   ],
   "metadata": {
    "collapsed": false,
    "pycharm": {
     "name": "#%%\n"
    }
   }
  },
  {
   "cell_type": "code",
   "execution_count": null,
   "outputs": [],
   "source": [
    "\n"
   ],
   "metadata": {
    "collapsed": false,
    "pycharm": {
     "name": "#%%\n"
    }
   }
  }
 ],
 "metadata": {
  "kernelspec": {
   "name": "python37364bitbaseconda17ad6249b02940119d559e8800b5bbf8",
   "language": "python",
   "display_name": "Python 3.7.3 64-bit ('base': conda)"
  },
  "language_info": {
   "codemirror_mode": {
    "name": "ipython",
    "version": 2
   },
   "file_extension": ".py",
   "mimetype": "text/x-python",
   "name": "python",
   "nbconvert_exporter": "python",
   "pygments_lexer": "ipython2",
   "version": "2.7.6"
  }
 },
 "nbformat": 4,
 "nbformat_minor": 0
}