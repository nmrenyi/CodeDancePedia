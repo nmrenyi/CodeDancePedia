{
 "cells": [
  {
   "cell_type": "code",
   "execution_count": 1,
   "metadata": {
    "collapsed": true
   },
   "outputs": [],
   "source": [
    "import pandas as pd\n",
    "from sklearn.utils import shuffle\n",
    "import numpy as np"
   ]
  },
  {
   "cell_type": "code",
   "execution_count": 2,
   "outputs": [
    {
     "name": "stdout",
     "output_type": "stream",
     "text": [
      "<class 'pandas.core.frame.DataFrame'>\n",
      "Int64Index: 14353 entries, 0 to 14362\n",
      "Data columns (total 10 columns):\n",
      " #   Column             Non-Null Count  Dtype  \n",
      "---  ------             --------------  -----  \n",
      " 0   question           14353 non-null  object \n",
      " 1   answer             14353 non-null  object \n",
      " 2   question_id        14353 non-null  object \n",
      " 3   paragraph_context  14353 non-null  object \n",
      " 4   paragraph_id       14353 non-null  object \n",
      " 5   item_id            14353 non-null  object \n",
      " 6   item_title         14353 non-null  object \n",
      " 7   src                14353 non-null  object \n",
      " 8   precision          14353 non-null  float64\n",
      " 9   recall             14353 non-null  int64  \n",
      "dtypes: float64(1), int64(1), object(8)\n",
      "memory usage: 1.2+ MB\n"
     ]
    }
   ],
   "source": [
    "df = pd.read_csv('../cmrc_reformatted/cmrc_reformatted-precision-recall.csv', sep='\\t', index_col=0)\n",
    "df.info()"
   ],
   "metadata": {
    "collapsed": false,
    "pycharm": {
     "name": "#%%\n"
    }
   }
  },
  {
   "cell_type": "code",
   "execution_count": 3,
   "outputs": [
    {
     "data": {
      "text/plain": "                        question                               answer  \\\n3544                杨复恭因何被升为枢密使？                               镇压庞勋有功   \n10635                 元朗千色汇位于哪里？                            香港元朗教育路1号   \n9186              黄鳍多棘鳞鲀遇敌时躲入哪里？                                礁缝凹陷处   \n5856                棱鮻的产卵期是什么时候？                                 冬末春初   \n14352                 塔顶的经纬度是多少？  其塔顶纬度为北纬23°26′31\"，东经113°28′ 56.16\"。   \n...                          ...                                  ...   \n4494            叶齿鳄的牙齿形态类似于哪些生物？                      某些原蜥脚类、或早期鸟臀目恐龙   \n8443   都城嘉慕威曼都城骑士凭借什么优点广受当地业界欢迎？                            合理售价，简易维修   \n9120              大刺鳅分布于哪个地区的河川？                                 亚洲地区   \n5023               跨年度剧集在哪个年份列出？                     跨年度剧集于播放大结局的年份列出   \n11133                朱常浩的性格有什么特点                        笃信佛教、不近女色，仅贪财   \n\n              question_id                                  paragraph_context  \\\n3544   TRAIN_1246_QUERY_1  杨复恭（），字子烙，本姓林，福建人，唐朝宦官。弘农郡公杨复光从兄。唐懿宗时，镇压庞勋有功，升...   \n10635     DEV_151_QUERY_1  元朗千色汇（），2015年3月前称千色广场（），是一座位于香港元朗教育路1号的中型零售购物，...   \n9186   TRAIN_3538_QUERY_3  黄鳍多棘鳞鲀（学名：），又称金鳍鼓气鳞鲀，俗名咖啡砲弹、金鳍鼓气板机鲀，为辐鳍鱼纲鲀形目鳞鲀...   \n5856   TRAIN_2134_QUERY_2  棱鮻（学名：），俗名白鱼、犬鱼、乌头、虫鱼，为为辐鳍鱼纲鲻形目鲻科鮻属的其中一种。本鱼分布于...   \n14352   TRIAL_690_QUERY_0  广州北回归线标志塔位于中国广东省从化区太平场油麻埔村三甲子一块海拔25.6米的坡地上，是中国...   \n...                   ...                                                ...   \n4494   TRAIN_1630_QUERY_3  叶齿鳄（学名：\"Phyllodontosuchus\"）是种原始鳄形类动物，属于喙头鳄亚目。目...   \n8443   TRAIN_2736_QUERY_1  都城嘉慕威曼都城骑士（MCW Metrorider）是一款由都城嘉慕威曼（Metro-Cam...   \n9120   TRAIN_3523_QUERY_0  大刺鳅（学名：）为辐鳍鱼纲合鳃目刺鳅科刺鳅属的一种，俗名锯齿泥鳅、带刀鱼、猪妈锯、刀鳅。本鱼...   \n5023   TRAIN_1776_QUERY_2  本列表是无线电视剧集收视列表的子列表，列出2000年代香港无线电视剧集的收视统计，排名根据全...   \n11133     DEV_307_QUERY_1  瑞王朱常浩（），明神宗第五子、母周端妃。常浩笃信佛教、不近女色，仅贪财，很不得神宗的欢心，因...   \n\n      paragraph_id     item_id           item_title             src  \\\n3544    TRAIN_1246  TRAIN_1246                  杨复恭  cmrc2018_train   \n10635      DEV_151     DEV_151                元朗千色汇    cmrc2018_dev   \n9186    TRAIN_3538  TRAIN_3538               黄鳍多棘鳞鲀  cmrc2018_train   \n5856    TRAIN_2134  TRAIN_2134                   棱鮻  cmrc2018_train   \n14352    TRIAL_690   TRIAL_690            广州北回归线标志塔  cmrc2018_trial   \n...            ...         ...                  ...             ...   \n4494    TRAIN_1630  TRAIN_1630                  叶齿鳄  cmrc2018_train   \n8443    TRAIN_2736  TRAIN_2736           都城嘉慕威曼都城骑士  cmrc2018_train   \n9120    TRAIN_3523  TRAIN_3523                  大刺鳅  cmrc2018_train   \n5023    TRAIN_1776  TRAIN_1776  无线电视剧集收视列表 (2000年代)  cmrc2018_train   \n11133      DEV_307     DEV_307                  朱常浩    cmrc2018_dev   \n\n       precision  recall  \n3544         0.1       1  \n10635        0.1       1  \n9186         0.1       1  \n5856         0.1       1  \n14352        0.1       1  \n...          ...     ...  \n4494         0.1       1  \n8443         0.1       1  \n9120         0.1       1  \n5023         0.1       1  \n11133        0.1       1  \n\n[14353 rows x 10 columns]",
      "text/html": "<div>\n<style scoped>\n    .dataframe tbody tr th:only-of-type {\n        vertical-align: middle;\n    }\n\n    .dataframe tbody tr th {\n        vertical-align: top;\n    }\n\n    .dataframe thead th {\n        text-align: right;\n    }\n</style>\n<table border=\"1\" class=\"dataframe\">\n  <thead>\n    <tr style=\"text-align: right;\">\n      <th></th>\n      <th>question</th>\n      <th>answer</th>\n      <th>question_id</th>\n      <th>paragraph_context</th>\n      <th>paragraph_id</th>\n      <th>item_id</th>\n      <th>item_title</th>\n      <th>src</th>\n      <th>precision</th>\n      <th>recall</th>\n    </tr>\n  </thead>\n  <tbody>\n    <tr>\n      <th>3544</th>\n      <td>杨复恭因何被升为枢密使？</td>\n      <td>镇压庞勋有功</td>\n      <td>TRAIN_1246_QUERY_1</td>\n      <td>杨复恭（），字子烙，本姓林，福建人，唐朝宦官。弘农郡公杨复光从兄。唐懿宗时，镇压庞勋有功，升...</td>\n      <td>TRAIN_1246</td>\n      <td>TRAIN_1246</td>\n      <td>杨复恭</td>\n      <td>cmrc2018_train</td>\n      <td>0.1</td>\n      <td>1</td>\n    </tr>\n    <tr>\n      <th>10635</th>\n      <td>元朗千色汇位于哪里？</td>\n      <td>香港元朗教育路1号</td>\n      <td>DEV_151_QUERY_1</td>\n      <td>元朗千色汇（），2015年3月前称千色广场（），是一座位于香港元朗教育路1号的中型零售购物，...</td>\n      <td>DEV_151</td>\n      <td>DEV_151</td>\n      <td>元朗千色汇</td>\n      <td>cmrc2018_dev</td>\n      <td>0.1</td>\n      <td>1</td>\n    </tr>\n    <tr>\n      <th>9186</th>\n      <td>黄鳍多棘鳞鲀遇敌时躲入哪里？</td>\n      <td>礁缝凹陷处</td>\n      <td>TRAIN_3538_QUERY_3</td>\n      <td>黄鳍多棘鳞鲀（学名：），又称金鳍鼓气鳞鲀，俗名咖啡砲弹、金鳍鼓气板机鲀，为辐鳍鱼纲鲀形目鳞鲀...</td>\n      <td>TRAIN_3538</td>\n      <td>TRAIN_3538</td>\n      <td>黄鳍多棘鳞鲀</td>\n      <td>cmrc2018_train</td>\n      <td>0.1</td>\n      <td>1</td>\n    </tr>\n    <tr>\n      <th>5856</th>\n      <td>棱鮻的产卵期是什么时候？</td>\n      <td>冬末春初</td>\n      <td>TRAIN_2134_QUERY_2</td>\n      <td>棱鮻（学名：），俗名白鱼、犬鱼、乌头、虫鱼，为为辐鳍鱼纲鲻形目鲻科鮻属的其中一种。本鱼分布于...</td>\n      <td>TRAIN_2134</td>\n      <td>TRAIN_2134</td>\n      <td>棱鮻</td>\n      <td>cmrc2018_train</td>\n      <td>0.1</td>\n      <td>1</td>\n    </tr>\n    <tr>\n      <th>14352</th>\n      <td>塔顶的经纬度是多少？</td>\n      <td>其塔顶纬度为北纬23°26′31\"，东经113°28′ 56.16\"。</td>\n      <td>TRIAL_690_QUERY_0</td>\n      <td>广州北回归线标志塔位于中国广东省从化区太平场油麻埔村三甲子一块海拔25.6米的坡地上，是中国...</td>\n      <td>TRIAL_690</td>\n      <td>TRIAL_690</td>\n      <td>广州北回归线标志塔</td>\n      <td>cmrc2018_trial</td>\n      <td>0.1</td>\n      <td>1</td>\n    </tr>\n    <tr>\n      <th>...</th>\n      <td>...</td>\n      <td>...</td>\n      <td>...</td>\n      <td>...</td>\n      <td>...</td>\n      <td>...</td>\n      <td>...</td>\n      <td>...</td>\n      <td>...</td>\n      <td>...</td>\n    </tr>\n    <tr>\n      <th>4494</th>\n      <td>叶齿鳄的牙齿形态类似于哪些生物？</td>\n      <td>某些原蜥脚类、或早期鸟臀目恐龙</td>\n      <td>TRAIN_1630_QUERY_3</td>\n      <td>叶齿鳄（学名：\"Phyllodontosuchus\"）是种原始鳄形类动物，属于喙头鳄亚目。目...</td>\n      <td>TRAIN_1630</td>\n      <td>TRAIN_1630</td>\n      <td>叶齿鳄</td>\n      <td>cmrc2018_train</td>\n      <td>0.1</td>\n      <td>1</td>\n    </tr>\n    <tr>\n      <th>8443</th>\n      <td>都城嘉慕威曼都城骑士凭借什么优点广受当地业界欢迎？</td>\n      <td>合理售价，简易维修</td>\n      <td>TRAIN_2736_QUERY_1</td>\n      <td>都城嘉慕威曼都城骑士（MCW Metrorider）是一款由都城嘉慕威曼（Metro-Cam...</td>\n      <td>TRAIN_2736</td>\n      <td>TRAIN_2736</td>\n      <td>都城嘉慕威曼都城骑士</td>\n      <td>cmrc2018_train</td>\n      <td>0.1</td>\n      <td>1</td>\n    </tr>\n    <tr>\n      <th>9120</th>\n      <td>大刺鳅分布于哪个地区的河川？</td>\n      <td>亚洲地区</td>\n      <td>TRAIN_3523_QUERY_0</td>\n      <td>大刺鳅（学名：）为辐鳍鱼纲合鳃目刺鳅科刺鳅属的一种，俗名锯齿泥鳅、带刀鱼、猪妈锯、刀鳅。本鱼...</td>\n      <td>TRAIN_3523</td>\n      <td>TRAIN_3523</td>\n      <td>大刺鳅</td>\n      <td>cmrc2018_train</td>\n      <td>0.1</td>\n      <td>1</td>\n    </tr>\n    <tr>\n      <th>5023</th>\n      <td>跨年度剧集在哪个年份列出？</td>\n      <td>跨年度剧集于播放大结局的年份列出</td>\n      <td>TRAIN_1776_QUERY_2</td>\n      <td>本列表是无线电视剧集收视列表的子列表，列出2000年代香港无线电视剧集的收视统计，排名根据全...</td>\n      <td>TRAIN_1776</td>\n      <td>TRAIN_1776</td>\n      <td>无线电视剧集收视列表 (2000年代)</td>\n      <td>cmrc2018_train</td>\n      <td>0.1</td>\n      <td>1</td>\n    </tr>\n    <tr>\n      <th>11133</th>\n      <td>朱常浩的性格有什么特点</td>\n      <td>笃信佛教、不近女色，仅贪财</td>\n      <td>DEV_307_QUERY_1</td>\n      <td>瑞王朱常浩（），明神宗第五子、母周端妃。常浩笃信佛教、不近女色，仅贪财，很不得神宗的欢心，因...</td>\n      <td>DEV_307</td>\n      <td>DEV_307</td>\n      <td>朱常浩</td>\n      <td>cmrc2018_dev</td>\n      <td>0.1</td>\n      <td>1</td>\n    </tr>\n  </tbody>\n</table>\n<p>14353 rows × 10 columns</p>\n</div>"
     },
     "execution_count": 3,
     "metadata": {},
     "output_type": "execute_result"
    }
   ],
   "source": [
    "shuffle(df)"
   ],
   "metadata": {
    "collapsed": false,
    "pycharm": {
     "name": "#%%\n"
    }
   }
  },
  {
   "cell_type": "code",
   "execution_count": 4,
   "outputs": [
    {
     "data": {
      "text/plain": "             question                                             answer  \\\n0     范廷颂是什么时候被任为主教的？                                              1963年   \n1    1990年，范廷颂担任什么职务？                              1990年被擢升为天主教河内总教区宗座署理   \n2       范廷颂是于何时何地出生的？                      范廷颂于1919年6月15日在越南宁平省天主教发艳教区出生   \n3  1994年3月，范廷颂担任什么职务？  1994年3月23日，范廷颂被教宗若望保禄二世擢升为天主教河内总教区总主教并兼天主教谅山教区...   \n4          范廷颂是何时去世的？                              范廷颂于2009年2月22日清晨在河内离世   \n\n         question_id                                  paragraph_context  \\\n0  TRAIN_186_QUERY_0  范廷颂枢机（，），圣名保禄·若瑟（），是越南罗马天主教枢机。1963年被任为主教；1990年...   \n1  TRAIN_186_QUERY_1  范廷颂枢机（，），圣名保禄·若瑟（），是越南罗马天主教枢机。1963年被任为主教；1990年...   \n2  TRAIN_186_QUERY_2  范廷颂枢机（，），圣名保禄·若瑟（），是越南罗马天主教枢机。1963年被任为主教；1990年...   \n3  TRAIN_186_QUERY_3  范廷颂枢机（，），圣名保禄·若瑟（），是越南罗马天主教枢机。1963年被任为主教；1990年...   \n4  TRAIN_186_QUERY_4  范廷颂枢机（，），圣名保禄·若瑟（），是越南罗马天主教枢机。1963年被任为主教；1990年...   \n\n  paragraph_id    item_id item_title             src  precision  recall  \n0    TRAIN_186  TRAIN_186        范廷颂  cmrc2018_train        0.0       0  \n1    TRAIN_186  TRAIN_186        范廷颂  cmrc2018_train        0.0       0  \n2    TRAIN_186  TRAIN_186        范廷颂  cmrc2018_train        0.0       0  \n3    TRAIN_186  TRAIN_186        范廷颂  cmrc2018_train        0.0       0  \n4    TRAIN_186  TRAIN_186        范廷颂  cmrc2018_train        0.0       0  ",
      "text/html": "<div>\n<style scoped>\n    .dataframe tbody tr th:only-of-type {\n        vertical-align: middle;\n    }\n\n    .dataframe tbody tr th {\n        vertical-align: top;\n    }\n\n    .dataframe thead th {\n        text-align: right;\n    }\n</style>\n<table border=\"1\" class=\"dataframe\">\n  <thead>\n    <tr style=\"text-align: right;\">\n      <th></th>\n      <th>question</th>\n      <th>answer</th>\n      <th>question_id</th>\n      <th>paragraph_context</th>\n      <th>paragraph_id</th>\n      <th>item_id</th>\n      <th>item_title</th>\n      <th>src</th>\n      <th>precision</th>\n      <th>recall</th>\n    </tr>\n  </thead>\n  <tbody>\n    <tr>\n      <th>0</th>\n      <td>范廷颂是什么时候被任为主教的？</td>\n      <td>1963年</td>\n      <td>TRAIN_186_QUERY_0</td>\n      <td>范廷颂枢机（，），圣名保禄·若瑟（），是越南罗马天主教枢机。1963年被任为主教；1990年...</td>\n      <td>TRAIN_186</td>\n      <td>TRAIN_186</td>\n      <td>范廷颂</td>\n      <td>cmrc2018_train</td>\n      <td>0.0</td>\n      <td>0</td>\n    </tr>\n    <tr>\n      <th>1</th>\n      <td>1990年，范廷颂担任什么职务？</td>\n      <td>1990年被擢升为天主教河内总教区宗座署理</td>\n      <td>TRAIN_186_QUERY_1</td>\n      <td>范廷颂枢机（，），圣名保禄·若瑟（），是越南罗马天主教枢机。1963年被任为主教；1990年...</td>\n      <td>TRAIN_186</td>\n      <td>TRAIN_186</td>\n      <td>范廷颂</td>\n      <td>cmrc2018_train</td>\n      <td>0.0</td>\n      <td>0</td>\n    </tr>\n    <tr>\n      <th>2</th>\n      <td>范廷颂是于何时何地出生的？</td>\n      <td>范廷颂于1919年6月15日在越南宁平省天主教发艳教区出生</td>\n      <td>TRAIN_186_QUERY_2</td>\n      <td>范廷颂枢机（，），圣名保禄·若瑟（），是越南罗马天主教枢机。1963年被任为主教；1990年...</td>\n      <td>TRAIN_186</td>\n      <td>TRAIN_186</td>\n      <td>范廷颂</td>\n      <td>cmrc2018_train</td>\n      <td>0.0</td>\n      <td>0</td>\n    </tr>\n    <tr>\n      <th>3</th>\n      <td>1994年3月，范廷颂担任什么职务？</td>\n      <td>1994年3月23日，范廷颂被教宗若望保禄二世擢升为天主教河内总教区总主教并兼天主教谅山教区...</td>\n      <td>TRAIN_186_QUERY_3</td>\n      <td>范廷颂枢机（，），圣名保禄·若瑟（），是越南罗马天主教枢机。1963年被任为主教；1990年...</td>\n      <td>TRAIN_186</td>\n      <td>TRAIN_186</td>\n      <td>范廷颂</td>\n      <td>cmrc2018_train</td>\n      <td>0.0</td>\n      <td>0</td>\n    </tr>\n    <tr>\n      <th>4</th>\n      <td>范廷颂是何时去世的？</td>\n      <td>范廷颂于2009年2月22日清晨在河内离世</td>\n      <td>TRAIN_186_QUERY_4</td>\n      <td>范廷颂枢机（，），圣名保禄·若瑟（），是越南罗马天主教枢机。1963年被任为主教；1990年...</td>\n      <td>TRAIN_186</td>\n      <td>TRAIN_186</td>\n      <td>范廷颂</td>\n      <td>cmrc2018_train</td>\n      <td>0.0</td>\n      <td>0</td>\n    </tr>\n  </tbody>\n</table>\n</div>"
     },
     "execution_count": 4,
     "metadata": {},
     "output_type": "execute_result"
    }
   ],
   "source": [
    "df.head()\n"
   ],
   "metadata": {
    "collapsed": false,
    "pycharm": {
     "name": "#%%\n"
    }
   }
  },
  {
   "cell_type": "code",
   "execution_count": 5,
   "outputs": [
    {
     "data": {
      "text/plain": "Empty DataFrame\nColumns: [question, answer, question_id, paragraph_context, paragraph_id, item_id, item_title, src, precision, recall]\nIndex: []",
      "text/html": "<div>\n<style scoped>\n    .dataframe tbody tr th:only-of-type {\n        vertical-align: middle;\n    }\n\n    .dataframe tbody tr th {\n        vertical-align: top;\n    }\n\n    .dataframe thead th {\n        text-align: right;\n    }\n</style>\n<table border=\"1\" class=\"dataframe\">\n  <thead>\n    <tr style=\"text-align: right;\">\n      <th></th>\n      <th>question</th>\n      <th>answer</th>\n      <th>question_id</th>\n      <th>paragraph_context</th>\n      <th>paragraph_id</th>\n      <th>item_id</th>\n      <th>item_title</th>\n      <th>src</th>\n      <th>precision</th>\n      <th>recall</th>\n    </tr>\n  </thead>\n  <tbody>\n  </tbody>\n</table>\n</div>"
     },
     "execution_count": 5,
     "metadata": {},
     "output_type": "execute_result"
    }
   ],
   "source": [
    "nan_rows = df[df.isnull().T.any().T]\n",
    "nan_rows"
   ],
   "metadata": {
    "collapsed": false,
    "pycharm": {
     "name": "#%%\n"
    }
   }
  },
  {
   "cell_type": "code",
   "execution_count": 6,
   "outputs": [
    {
     "data": {
      "text/plain": "                 question                                             answer  \\\n0         范廷颂是什么时候被任为主教的？                                              1963年   \n1        1990年，范廷颂担任什么职务？                              1990年被擢升为天主教河内总教区宗座署理   \n2           范廷颂是于何时何地出生的？                      范廷颂于1919年6月15日在越南宁平省天主教发艳教区出生   \n3      1994年3月，范廷颂担任什么职务？  1994年3月23日，范廷颂被教宗若望保禄二世擢升为天主教河内总教区总主教并兼天主教谅山教区...   \n4              范廷颂是何时去世的？                              范廷颂于2009年2月22日清晨在河内离世   \n...                   ...                                                ...   \n14358        在此监禁者主要分为几类？                                                 两类   \n14359             什么是约化群？                               在数学中，约化群是幂单根为平凡群的代数群   \n14360          欧洲越橘有哪些功效？  在16世纪的欧洲始作为药用植物，叶子习惯上已用于收敛、抗炎、抗菌、强壮，有弱的抗糖尿病活性，...   \n14361         哪些地方欧洲越橘较多？                           主要分布于欧洲、北美（美国和加拿大）和亚洲北部。   \n14362         欧洲越橘含有什么成分？  含有大量的黄酮类化合物，其中以花青素类为主，包括花青素（cyanidin）、翠雀花素、芍药花...   \n\n             question_id                                  paragraph_context  \\\n0      TRAIN_186_QUERY_0  范廷颂枢机（，），圣名保禄·若瑟（），是越南罗马天主教枢机。1963年被任为主教；1990年...   \n1      TRAIN_186_QUERY_1  范廷颂枢机（，），圣名保禄·若瑟（），是越南罗马天主教枢机。1963年被任为主教；1990年...   \n2      TRAIN_186_QUERY_2  范廷颂枢机（，），圣名保禄·若瑟（），是越南罗马天主教枢机。1963年被任为主教；1990年...   \n3      TRAIN_186_QUERY_3  范廷颂枢机（，），圣名保禄·若瑟（），是越南罗马天主教枢机。1963年被任为主教；1990年...   \n4      TRAIN_186_QUERY_4  范廷颂枢机（，），圣名保禄·若瑟（），是越南罗马天主教枢机。1963年被任为主教；1990年...   \n...                  ...                                                ...   \n14358  TRIAL_697_QUERY_3  小榄精神病治疗中心（Siu Lam Psychiatric Centre，原称小榄精神科监狱...   \n14359  TRIAL_141_QUERY_0  在数学中，约化群是幂单根为平凡群的代数群。代数环面与半单代数群都是约化群，一般线性群form...   \n14360  TRIAL_468_QUERY_0  欧洲越橘（学名：'），又称黑果越橘，是杜鹃花科越橘属的植物。果实可作食用。是越橘属的模式种。...   \n14361  TRIAL_468_QUERY_1  欧洲越橘（学名：'），又称黑果越橘，是杜鹃花科越橘属的植物。果实可作食用。是越橘属的模式种。...   \n14362  TRIAL_468_QUERY_2  欧洲越橘（学名：'），又称黑果越橘，是杜鹃花科越橘属的植物。果实可作食用。是越橘属的模式种。...   \n\n      paragraph_id    item_id item_title             src  precision  recall  \n0        TRAIN_186  TRAIN_186        范廷颂  cmrc2018_train        0.0       0  \n1        TRAIN_186  TRAIN_186        范廷颂  cmrc2018_train        0.0       0  \n2        TRAIN_186  TRAIN_186        范廷颂  cmrc2018_train        0.0       0  \n3        TRAIN_186  TRAIN_186        范廷颂  cmrc2018_train        0.0       0  \n4        TRAIN_186  TRAIN_186        范廷颂  cmrc2018_train        0.0       0  \n...            ...        ...        ...             ...        ...     ...  \n14358    TRIAL_697  TRIAL_697  小榄精神病治疗中心  cmrc2018_trial        0.1       1  \n14359    TRIAL_141  TRIAL_141        约化群  cmrc2018_trial        0.1       1  \n14360    TRIAL_468  TRIAL_468       欧洲越橘  cmrc2018_trial        0.1       1  \n14361    TRIAL_468  TRIAL_468       欧洲越橘  cmrc2018_trial        0.1       1  \n14362    TRIAL_468  TRIAL_468       欧洲越橘  cmrc2018_trial        0.1       1  \n\n[14353 rows x 10 columns]",
      "text/html": "<div>\n<style scoped>\n    .dataframe tbody tr th:only-of-type {\n        vertical-align: middle;\n    }\n\n    .dataframe tbody tr th {\n        vertical-align: top;\n    }\n\n    .dataframe thead th {\n        text-align: right;\n    }\n</style>\n<table border=\"1\" class=\"dataframe\">\n  <thead>\n    <tr style=\"text-align: right;\">\n      <th></th>\n      <th>question</th>\n      <th>answer</th>\n      <th>question_id</th>\n      <th>paragraph_context</th>\n      <th>paragraph_id</th>\n      <th>item_id</th>\n      <th>item_title</th>\n      <th>src</th>\n      <th>precision</th>\n      <th>recall</th>\n    </tr>\n  </thead>\n  <tbody>\n    <tr>\n      <th>0</th>\n      <td>范廷颂是什么时候被任为主教的？</td>\n      <td>1963年</td>\n      <td>TRAIN_186_QUERY_0</td>\n      <td>范廷颂枢机（，），圣名保禄·若瑟（），是越南罗马天主教枢机。1963年被任为主教；1990年...</td>\n      <td>TRAIN_186</td>\n      <td>TRAIN_186</td>\n      <td>范廷颂</td>\n      <td>cmrc2018_train</td>\n      <td>0.0</td>\n      <td>0</td>\n    </tr>\n    <tr>\n      <th>1</th>\n      <td>1990年，范廷颂担任什么职务？</td>\n      <td>1990年被擢升为天主教河内总教区宗座署理</td>\n      <td>TRAIN_186_QUERY_1</td>\n      <td>范廷颂枢机（，），圣名保禄·若瑟（），是越南罗马天主教枢机。1963年被任为主教；1990年...</td>\n      <td>TRAIN_186</td>\n      <td>TRAIN_186</td>\n      <td>范廷颂</td>\n      <td>cmrc2018_train</td>\n      <td>0.0</td>\n      <td>0</td>\n    </tr>\n    <tr>\n      <th>2</th>\n      <td>范廷颂是于何时何地出生的？</td>\n      <td>范廷颂于1919年6月15日在越南宁平省天主教发艳教区出生</td>\n      <td>TRAIN_186_QUERY_2</td>\n      <td>范廷颂枢机（，），圣名保禄·若瑟（），是越南罗马天主教枢机。1963年被任为主教；1990年...</td>\n      <td>TRAIN_186</td>\n      <td>TRAIN_186</td>\n      <td>范廷颂</td>\n      <td>cmrc2018_train</td>\n      <td>0.0</td>\n      <td>0</td>\n    </tr>\n    <tr>\n      <th>3</th>\n      <td>1994年3月，范廷颂担任什么职务？</td>\n      <td>1994年3月23日，范廷颂被教宗若望保禄二世擢升为天主教河内总教区总主教并兼天主教谅山教区...</td>\n      <td>TRAIN_186_QUERY_3</td>\n      <td>范廷颂枢机（，），圣名保禄·若瑟（），是越南罗马天主教枢机。1963年被任为主教；1990年...</td>\n      <td>TRAIN_186</td>\n      <td>TRAIN_186</td>\n      <td>范廷颂</td>\n      <td>cmrc2018_train</td>\n      <td>0.0</td>\n      <td>0</td>\n    </tr>\n    <tr>\n      <th>4</th>\n      <td>范廷颂是何时去世的？</td>\n      <td>范廷颂于2009年2月22日清晨在河内离世</td>\n      <td>TRAIN_186_QUERY_4</td>\n      <td>范廷颂枢机（，），圣名保禄·若瑟（），是越南罗马天主教枢机。1963年被任为主教；1990年...</td>\n      <td>TRAIN_186</td>\n      <td>TRAIN_186</td>\n      <td>范廷颂</td>\n      <td>cmrc2018_train</td>\n      <td>0.0</td>\n      <td>0</td>\n    </tr>\n    <tr>\n      <th>...</th>\n      <td>...</td>\n      <td>...</td>\n      <td>...</td>\n      <td>...</td>\n      <td>...</td>\n      <td>...</td>\n      <td>...</td>\n      <td>...</td>\n      <td>...</td>\n      <td>...</td>\n    </tr>\n    <tr>\n      <th>14358</th>\n      <td>在此监禁者主要分为几类？</td>\n      <td>两类</td>\n      <td>TRIAL_697_QUERY_3</td>\n      <td>小榄精神病治疗中心（Siu Lam Psychiatric Centre，原称小榄精神科监狱...</td>\n      <td>TRIAL_697</td>\n      <td>TRIAL_697</td>\n      <td>小榄精神病治疗中心</td>\n      <td>cmrc2018_trial</td>\n      <td>0.1</td>\n      <td>1</td>\n    </tr>\n    <tr>\n      <th>14359</th>\n      <td>什么是约化群？</td>\n      <td>在数学中，约化群是幂单根为平凡群的代数群</td>\n      <td>TRIAL_141_QUERY_0</td>\n      <td>在数学中，约化群是幂单根为平凡群的代数群。代数环面与半单代数群都是约化群，一般线性群form...</td>\n      <td>TRIAL_141</td>\n      <td>TRIAL_141</td>\n      <td>约化群</td>\n      <td>cmrc2018_trial</td>\n      <td>0.1</td>\n      <td>1</td>\n    </tr>\n    <tr>\n      <th>14360</th>\n      <td>欧洲越橘有哪些功效？</td>\n      <td>在16世纪的欧洲始作为药用植物，叶子习惯上已用于收敛、抗炎、抗菌、强壮，有弱的抗糖尿病活性，...</td>\n      <td>TRIAL_468_QUERY_0</td>\n      <td>欧洲越橘（学名：'），又称黑果越橘，是杜鹃花科越橘属的植物。果实可作食用。是越橘属的模式种。...</td>\n      <td>TRIAL_468</td>\n      <td>TRIAL_468</td>\n      <td>欧洲越橘</td>\n      <td>cmrc2018_trial</td>\n      <td>0.1</td>\n      <td>1</td>\n    </tr>\n    <tr>\n      <th>14361</th>\n      <td>哪些地方欧洲越橘较多？</td>\n      <td>主要分布于欧洲、北美（美国和加拿大）和亚洲北部。</td>\n      <td>TRIAL_468_QUERY_1</td>\n      <td>欧洲越橘（学名：'），又称黑果越橘，是杜鹃花科越橘属的植物。果实可作食用。是越橘属的模式种。...</td>\n      <td>TRIAL_468</td>\n      <td>TRIAL_468</td>\n      <td>欧洲越橘</td>\n      <td>cmrc2018_trial</td>\n      <td>0.1</td>\n      <td>1</td>\n    </tr>\n    <tr>\n      <th>14362</th>\n      <td>欧洲越橘含有什么成分？</td>\n      <td>含有大量的黄酮类化合物，其中以花青素类为主，包括花青素（cyanidin）、翠雀花素、芍药花...</td>\n      <td>TRIAL_468_QUERY_2</td>\n      <td>欧洲越橘（学名：'），又称黑果越橘，是杜鹃花科越橘属的植物。果实可作食用。是越橘属的模式种。...</td>\n      <td>TRIAL_468</td>\n      <td>TRIAL_468</td>\n      <td>欧洲越橘</td>\n      <td>cmrc2018_trial</td>\n      <td>0.1</td>\n      <td>1</td>\n    </tr>\n  </tbody>\n</table>\n<p>14353 rows × 10 columns</p>\n</div>"
     },
     "execution_count": 6,
     "metadata": {},
     "output_type": "execute_result"
    }
   ],
   "source": [
    "df.dropna()\n",
    "\n"
   ],
   "metadata": {
    "collapsed": false,
    "pycharm": {
     "name": "#%%\n"
    }
   }
  },
  {
   "cell_type": "code",
   "execution_count": 10,
   "outputs": [
    {
     "data": {
      "text/plain": "507.87542674005437"
     },
     "execution_count": 10,
     "metadata": {},
     "output_type": "execute_result"
    }
   ],
   "source": [
    "np.mean(df['paragraph_context'].str.len().tolist())\n"
   ],
   "metadata": {
    "collapsed": false,
    "pycharm": {
     "name": "#%%\n"
    }
   }
  },
  {
   "cell_type": "code",
   "execution_count": null,
   "outputs": [],
   "source": [
    "\n"
   ],
   "metadata": {
    "collapsed": false,
    "pycharm": {
     "name": "#%%\n"
    }
   }
  }
 ],
 "metadata": {
  "kernelspec": {
   "name": "python37364bitbaseconda17ad6249b02940119d559e8800b5bbf8",
   "language": "python",
   "display_name": "Python 3.7.3 64-bit ('base': conda)"
  },
  "language_info": {
   "codemirror_mode": {
    "name": "ipython",
    "version": 2
   },
   "file_extension": ".py",
   "mimetype": "text/x-python",
   "name": "python",
   "nbconvert_exporter": "python",
   "pygments_lexer": "ipython2",
   "version": "2.7.6"
  }
 },
 "nbformat": 4,
 "nbformat_minor": 0
}