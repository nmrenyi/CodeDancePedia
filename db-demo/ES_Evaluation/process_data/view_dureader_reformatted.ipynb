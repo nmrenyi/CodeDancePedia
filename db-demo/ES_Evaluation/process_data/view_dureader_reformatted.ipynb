{
 "cells": [
  {
   "cell_type": "code",
   "execution_count": 1,
   "metadata": {
    "collapsed": true
   },
   "outputs": [],
   "source": [
    "import pandas as pd\n",
    "from sklearn.utils import shuffle\n",
    "import numpy as np\n",
    "import seaborn as sns"
   ]
  },
  {
   "cell_type": "code",
   "execution_count": null,
   "outputs": [],
   "source": [
    "df = pd.read_csv('../DuReader_reformatted/DuReader_reformatted.csv', sep='\\t', index_col=0)"
   ],
   "metadata": {
    "collapsed": false,
    "pycharm": {
     "name": "#%%\n",
     "is_executing": true
    }
   }
  },
  {
   "cell_type": "code",
   "execution_count": null,
   "outputs": [],
   "source": [
    "df.info()"
   ],
   "metadata": {
    "collapsed": false,
    "pycharm": {
     "name": "#%%\n",
     "is_executing": true
    }
   }
  },
  {
   "cell_type": "code",
   "execution_count": null,
   "outputs": [],
   "source": [],
   "metadata": {
    "collapsed": false,
    "pycharm": {
     "name": "#%%\n",
     "is_executing": true
    }
   }
  },
  {
   "cell_type": "code",
   "execution_count": null,
   "outputs": [],
   "source": [
    "df.head()"
   ],
   "metadata": {
    "collapsed": false,
    "pycharm": {
     "name": "#%%\n",
     "is_executing": true
    }
   }
  },
  {
   "cell_type": "code",
   "execution_count": 5,
   "outputs": [
    {
     "data": {
      "text/plain": "                 question  question_id question_type question_fact_opinion  \\\n405639          dnf辅助装备任务        86756   DESCRIPTION               OPINION   \n1155831    usb2.0如何配置固件程序       467596   DESCRIPTION               OPINION   \n1526452          哺乳期可以输液吗       341820        YES_NO               OPINION   \n1611192          如何给洗衣机消毒       304705   DESCRIPTION                  FACT   \n1241524              牙槽骨薄       410515   DESCRIPTION               OPINION   \n...                   ...          ...           ...                   ...   \n984528        姓汪还是姓蒋是什么意思       165313   DESCRIPTION                  FACT   \n294884         上海朱家角怎么坐地铁        63016   DESCRIPTION                  FACT   \n1262013  为什么说核电是清洁能源?百万公众       353709   DESCRIPTION                  FACT   \n1138639          如何查询电脑内存       461512   DESCRIPTION                  FACT   \n1571856      滴滴专车 如何绑定银行卡       384040   DESCRIPTION                  FACT   \n\n                                 doc_title  doc_selected  \\\n405639                dnf开启辅助装备的任务怎么做_百度知道           0.0   \n1155831                    怎么样安装USB2.0万能驱动           1.0   \n1526452                     妈妈感冒输液了，还能喂奶吗？           NaN   \n1611192                         洗衣机怎么消毒小秘方           NaN   \n1241524                        牙槽骨薄可以做种植牙吗           1.0   \n...                                    ...           ...   \n984528                    人民的名义 姓蒋还是姓汪什么意思           0.0   \n294884   朱家角古镇坐几号地铁?上海朱家角古镇地铁在哪里坐?_上海旅游_旅游           0.0   \n1262013                        为什么说核电是清洁能源           1.0   \n1138639                       怎么查看自己电脑内存多大           0.0   \n1571856                    滴滴专车司机端怎么绑定银行卡            NaN   \n\n                                            doc_paragraphs  \\\n405639   [\"接开启辅助装备的第一个任务,然后去打天界夜间袭击战,好像是冒险还是勇士级以上,通关一次即...   \n1155831  [\"1．从桌面上右击“我的电脑”图标，从弹出的菜单中选择“属性”菜单。\\n\\n    2．从...   \n1526452  [\"抗体是我们体内的免疫系统制造的一种蛋白质，能够帮助人体抵御疾病。其实不仅感冒后可以喂奶，...   \n1611192  [\"买瓶洗衣机清洗剂，含成分过碳酸钠、阴离子表面活性剂、非离子表面活性剂、缓蚀 剂、进口香精...   \n1241524  [\"？大多的牙齿缺失患者都是老年人，牙齿缺失给他们的生活造成了很大的干扰。目前种植牙是最好的...   \n...                                                    ...   \n984528   [\"http://pan.baidu.com/s/1dFpELjF 人民的名义全集百度云网盘...   \n294884   [\"您所在的位置:  首页 旅游问答 旅游景点 上海旅游 朱家角古镇坐几号地铁?上海朱家角古...   \n1262013  [\"核能俗称原子能，它是指原子核中的核子重新分配时释放出来的能量。核能分两类，一类称裂变能，...   \n1138639       [\"以win7为例，右键点击桌面上的计算机--属性，打开的属性窗口就能看到内存的大小\"]   \n1571856  [\"滴滴专车司机端怎么绑定银行卡相关应用\", \"约约专车司机端\", \"Android / i...   \n\n                                doc_most_related_paragraph  \\\n405639   接开启辅助装备的第一个任务,然后去打天界夜间袭击战,好像是冒险还是勇士级以上,通关一次即可完...   \n1155831  1．从桌面上右击“我的电脑”图标，从弹出的菜单中选择“属性”菜单。\\n\\n    2．从“系...   \n1526452                                                NaN   \n1611192                                                NaN   \n1241524  ？大多的牙齿缺失患者都是老年人，牙齿缺失给他们的生活造成了很大的干扰。目前种植牙是最好的牙齿...   \n...                                                    ...   \n984528   字面意思就是问属于那一边的人，真正的意思需要了解当时的社会背景。在当时，蒋介石是我们是联合抗...   \n294884   补充:好想去旅游啊,对景区景点没有了解,有经验的驴友们给点建议吧。朱家角古镇坐几号地铁?上海...   \n1262013  核能俗称原子能，它是指原子核中的核子重新分配时释放出来的能量。核能分两类，一类称裂变能，另一...   \n1138639           以win7为例，右键点击桌面上的计算机--属性，打开的属性窗口就能看到内存的大小   \n1571856                                                NaN   \n\n                                                   answers           src  \n405639                                     [\"辅助装备槽好像在右边。\"]  search.train  \n1155831  [\"1．从桌面上右击“我的电脑”图标，从弹出的菜单中选择“属性”菜单。2．从“系统属性”对话...  zhidao.train  \n1526452                                                NaN   search.test  \n1611192                                                NaN   zhidao.test  \n1241524  [\"植牙需要植骨粉说明你的缺牙区剩余骨床条件不够好，骨量不足时植入骨粉是常见的治疗方式\", ...  zhidao.train  \n...                                                    ...           ...  \n984528   [\"“他们到底是姓蒋还是姓汪？”这一句《沙家浜》中的简简单单的唱词（在剧中，是阿庆嫂极为看重...  zhidao.train  \n294884   [\"公交线路：地铁8号线→地铁9号线→松朱专线，全程约56.2公里。1、从上海市步行约240...  search.train  \n1262013  [\"与水电、风电、太阳能发电相比，在改善环境质量方面，核电具有明显的优势。核电单机容量大，运...  zhidao.train  \n1138639  [\"开机启动自检时，及时按“Pause Break”键 方法2，右击“我的电脑”选“属性”：...  zhidao.train  \n1571856                                                NaN   search.test  \n\n[1889768 rows x 10 columns]",
      "text/html": "<div>\n<style scoped>\n    .dataframe tbody tr th:only-of-type {\n        vertical-align: middle;\n    }\n\n    .dataframe tbody tr th {\n        vertical-align: top;\n    }\n\n    .dataframe thead th {\n        text-align: right;\n    }\n</style>\n<table border=\"1\" class=\"dataframe\">\n  <thead>\n    <tr style=\"text-align: right;\">\n      <th></th>\n      <th>question</th>\n      <th>question_id</th>\n      <th>question_type</th>\n      <th>question_fact_opinion</th>\n      <th>doc_title</th>\n      <th>doc_selected</th>\n      <th>doc_paragraphs</th>\n      <th>doc_most_related_paragraph</th>\n      <th>answers</th>\n      <th>src</th>\n    </tr>\n  </thead>\n  <tbody>\n    <tr>\n      <th>405639</th>\n      <td>dnf辅助装备任务</td>\n      <td>86756</td>\n      <td>DESCRIPTION</td>\n      <td>OPINION</td>\n      <td>dnf开启辅助装备的任务怎么做_百度知道</td>\n      <td>0.0</td>\n      <td>[\"接开启辅助装备的第一个任务,然后去打天界夜间袭击战,好像是冒险还是勇士级以上,通关一次即...</td>\n      <td>接开启辅助装备的第一个任务,然后去打天界夜间袭击战,好像是冒险还是勇士级以上,通关一次即可完...</td>\n      <td>[\"辅助装备槽好像在右边。\"]</td>\n      <td>search.train</td>\n    </tr>\n    <tr>\n      <th>1155831</th>\n      <td>usb2.0如何配置固件程序</td>\n      <td>467596</td>\n      <td>DESCRIPTION</td>\n      <td>OPINION</td>\n      <td>怎么样安装USB2.0万能驱动</td>\n      <td>1.0</td>\n      <td>[\"1．从桌面上右击“我的电脑”图标，从弹出的菜单中选择“属性”菜单。\\n\\n    2．从...</td>\n      <td>1．从桌面上右击“我的电脑”图标，从弹出的菜单中选择“属性”菜单。\\n\\n    2．从“系...</td>\n      <td>[\"1．从桌面上右击“我的电脑”图标，从弹出的菜单中选择“属性”菜单。2．从“系统属性”对话...</td>\n      <td>zhidao.train</td>\n    </tr>\n    <tr>\n      <th>1526452</th>\n      <td>哺乳期可以输液吗</td>\n      <td>341820</td>\n      <td>YES_NO</td>\n      <td>OPINION</td>\n      <td>妈妈感冒输液了，还能喂奶吗？</td>\n      <td>NaN</td>\n      <td>[\"抗体是我们体内的免疫系统制造的一种蛋白质，能够帮助人体抵御疾病。其实不仅感冒后可以喂奶，...</td>\n      <td>NaN</td>\n      <td>NaN</td>\n      <td>search.test</td>\n    </tr>\n    <tr>\n      <th>1611192</th>\n      <td>如何给洗衣机消毒</td>\n      <td>304705</td>\n      <td>DESCRIPTION</td>\n      <td>FACT</td>\n      <td>洗衣机怎么消毒小秘方</td>\n      <td>NaN</td>\n      <td>[\"买瓶洗衣机清洗剂，含成分过碳酸钠、阴离子表面活性剂、非离子表面活性剂、缓蚀 剂、进口香精...</td>\n      <td>NaN</td>\n      <td>NaN</td>\n      <td>zhidao.test</td>\n    </tr>\n    <tr>\n      <th>1241524</th>\n      <td>牙槽骨薄</td>\n      <td>410515</td>\n      <td>DESCRIPTION</td>\n      <td>OPINION</td>\n      <td>牙槽骨薄可以做种植牙吗</td>\n      <td>1.0</td>\n      <td>[\"？大多的牙齿缺失患者都是老年人，牙齿缺失给他们的生活造成了很大的干扰。目前种植牙是最好的...</td>\n      <td>？大多的牙齿缺失患者都是老年人，牙齿缺失给他们的生活造成了很大的干扰。目前种植牙是最好的牙齿...</td>\n      <td>[\"植牙需要植骨粉说明你的缺牙区剩余骨床条件不够好，骨量不足时植入骨粉是常见的治疗方式\", ...</td>\n      <td>zhidao.train</td>\n    </tr>\n    <tr>\n      <th>...</th>\n      <td>...</td>\n      <td>...</td>\n      <td>...</td>\n      <td>...</td>\n      <td>...</td>\n      <td>...</td>\n      <td>...</td>\n      <td>...</td>\n      <td>...</td>\n      <td>...</td>\n    </tr>\n    <tr>\n      <th>984528</th>\n      <td>姓汪还是姓蒋是什么意思</td>\n      <td>165313</td>\n      <td>DESCRIPTION</td>\n      <td>FACT</td>\n      <td>人民的名义 姓蒋还是姓汪什么意思</td>\n      <td>0.0</td>\n      <td>[\"http://pan.baidu.com/s/1dFpELjF 人民的名义全集百度云网盘...</td>\n      <td>字面意思就是问属于那一边的人，真正的意思需要了解当时的社会背景。在当时，蒋介石是我们是联合抗...</td>\n      <td>[\"“他们到底是姓蒋还是姓汪？”这一句《沙家浜》中的简简单单的唱词（在剧中，是阿庆嫂极为看重...</td>\n      <td>zhidao.train</td>\n    </tr>\n    <tr>\n      <th>294884</th>\n      <td>上海朱家角怎么坐地铁</td>\n      <td>63016</td>\n      <td>DESCRIPTION</td>\n      <td>FACT</td>\n      <td>朱家角古镇坐几号地铁?上海朱家角古镇地铁在哪里坐?_上海旅游_旅游</td>\n      <td>0.0</td>\n      <td>[\"您所在的位置:  首页 旅游问答 旅游景点 上海旅游 朱家角古镇坐几号地铁?上海朱家角古...</td>\n      <td>补充:好想去旅游啊,对景区景点没有了解,有经验的驴友们给点建议吧。朱家角古镇坐几号地铁?上海...</td>\n      <td>[\"公交线路：地铁8号线→地铁9号线→松朱专线，全程约56.2公里。1、从上海市步行约240...</td>\n      <td>search.train</td>\n    </tr>\n    <tr>\n      <th>1262013</th>\n      <td>为什么说核电是清洁能源?百万公众</td>\n      <td>353709</td>\n      <td>DESCRIPTION</td>\n      <td>FACT</td>\n      <td>为什么说核电是清洁能源</td>\n      <td>1.0</td>\n      <td>[\"核能俗称原子能，它是指原子核中的核子重新分配时释放出来的能量。核能分两类，一类称裂变能，...</td>\n      <td>核能俗称原子能，它是指原子核中的核子重新分配时释放出来的能量。核能分两类，一类称裂变能，另一...</td>\n      <td>[\"与水电、风电、太阳能发电相比，在改善环境质量方面，核电具有明显的优势。核电单机容量大，运...</td>\n      <td>zhidao.train</td>\n    </tr>\n    <tr>\n      <th>1138639</th>\n      <td>如何查询电脑内存</td>\n      <td>461512</td>\n      <td>DESCRIPTION</td>\n      <td>FACT</td>\n      <td>怎么查看自己电脑内存多大</td>\n      <td>0.0</td>\n      <td>[\"以win7为例，右键点击桌面上的计算机--属性，打开的属性窗口就能看到内存的大小\"]</td>\n      <td>以win7为例，右键点击桌面上的计算机--属性，打开的属性窗口就能看到内存的大小</td>\n      <td>[\"开机启动自检时，及时按“Pause Break”键 方法2，右击“我的电脑”选“属性”：...</td>\n      <td>zhidao.train</td>\n    </tr>\n    <tr>\n      <th>1571856</th>\n      <td>滴滴专车 如何绑定银行卡</td>\n      <td>384040</td>\n      <td>DESCRIPTION</td>\n      <td>FACT</td>\n      <td>滴滴专车司机端怎么绑定银行卡</td>\n      <td>NaN</td>\n      <td>[\"滴滴专车司机端怎么绑定银行卡相关应用\", \"约约专车司机端\", \"Android / i...</td>\n      <td>NaN</td>\n      <td>NaN</td>\n      <td>search.test</td>\n    </tr>\n  </tbody>\n</table>\n<p>1889768 rows × 10 columns</p>\n</div>"
     },
     "execution_count": 5,
     "metadata": {},
     "output_type": "execute_result"
    }
   ],
   "source": [
    "shuffle(df)"
   ],
   "metadata": {
    "collapsed": false,
    "pycharm": {
     "name": "#%%\n",
     "is_executing": true
    }
   }
  },
  {
   "cell_type": "code",
   "execution_count": null,
   "outputs": [],
   "source": [
    "nan_rows = df[df.isnull().T.any().T]\n",
    "nan_rows"
   ],
   "metadata": {
    "collapsed": false,
    "pycharm": {
     "name": "#%%\n",
     "is_executing": true
    }
   }
  },
  {
   "cell_type": "code",
   "execution_count": 7,
   "outputs": [],
   "source": [
    "no_nan_df = df.dropna()"
   ],
   "metadata": {
    "collapsed": false,
    "pycharm": {
     "name": "#%%\n",
     "is_executing": true
    }
   }
  },
  {
   "cell_type": "code",
   "execution_count": 8,
   "outputs": [
    {
     "name": "stdout",
     "output_type": "stream",
     "text": [
      "<class 'pandas.core.frame.DataFrame'>\n",
      "Int64Index: 1325364 entries, 0 to 1331428\n",
      "Data columns (total 10 columns):\n",
      " #   Column                      Non-Null Count    Dtype  \n",
      "---  ------                      --------------    -----  \n",
      " 0   question                    1325364 non-null  object \n",
      " 1   question_id                 1325364 non-null  int64  \n",
      " 2   question_type               1325364 non-null  object \n",
      " 3   question_fact_opinion       1325364 non-null  object \n",
      " 4   doc_title                   1325364 non-null  object \n",
      " 5   doc_selected                1325364 non-null  float64\n",
      " 6   doc_paragraphs              1325364 non-null  object \n",
      " 7   doc_most_related_paragraph  1325364 non-null  object \n",
      " 8   answers                     1325364 non-null  object \n",
      " 9   src                         1325364 non-null  object \n",
      "dtypes: float64(1), int64(1), object(8)\n",
      "memory usage: 111.2+ MB\n"
     ]
    }
   ],
   "source": [
    "no_nan_df.info()"
   ],
   "metadata": {
    "collapsed": false,
    "pycharm": {
     "name": "#%%\n",
     "is_executing": true
    }
   }
  },
  {
   "cell_type": "code",
   "execution_count": 9,
   "outputs": [
    {
     "data": {
      "text/plain": "      question  question_id question_type question_fact_opinion  \\\n0  微信分享链接打开app        91159   DESCRIPTION                  FACT   \n1  微信分享链接打开app        91159   DESCRIPTION                  FACT   \n2  微信分享链接打开app        91159   DESCRIPTION                  FACT   \n3  微信分享链接打开app        91159   DESCRIPTION                  FACT   \n4  微信分享链接打开app        91159   DESCRIPTION                  FACT   \n\n                                         doc_title  doc_selected  \\\n0               iOS里,把一个页面链接分享给好友,好友在微信里打开这个链接,怎么跳           1.0   \n1                        怎么可以在微信里面打开APP下载链接地址_百度经验           1.0   \n2                     android微信分享的链接怎么启动app-CSDN论坛           0.0   \n3  android 从微信分享的网页中启动APP - mattdong1024的专栏 - CSDN           0.0   \n4                         微信浏览器中点击链接怎么打开本地app_百度经验           1.0   \n\n                                      doc_paragraphs  \\\n0  [\"iOS里,把一个页面链接分享给微信好友(会话),好友在微信里打开这个链接,也就是打开了一...   \n1  [\"百度经验:jingyan.baidu.com\", \"我们都知道手游、APP想在微信分享时...   \n2  [\"app中分享到微信已经成功,但是通过分享的连接无法启动app。\", \"分享的链接就是普通...   \n3  [\"版权声明:本文为博主原创文章,未经博主允许不得转载。\", \"项目中有个需求,让用户可以从...   \n4  [\"百度经验:jingyan.baidu.com\", \"微信已经成为现代人生活中必不可少的一...   \n\n                          doc_most_related_paragraph  \\\n0  iOS里,把一个页面链接分享给微信好友(会话),好友在微信里打开这个链接,也就是打开了一个网...   \n1  1 首先打开腾讯开放平台,注册开放平台的一个账号,如下图所示。 步骤阅读 2 登录后在”管理...   \n2                    app中分享到微信已经成功,但是通过分享的连接无法启动app。   \n3  项目中有个需求,让用户可以从分享到微信的网页中启动自己的APP,如果本机没有安装该应用程序则...   \n4  1 将手机微信打开。 步骤阅读 2 打开微信中的链接。 步骤阅读 3 如图我们打开百度经验的...   \n\n                                             answers           src  \n0  [\"iOS里，把一个页面链接分享给微信好友（会话），好友在微信里打开这个链接,也就是打开了一...  search.train  \n1  [\"iOS里，把一个页面链接分享给微信好友（会话），好友在微信里打开这个链接,也就是打开了一...  search.train  \n2  [\"iOS里，把一个页面链接分享给微信好友（会话），好友在微信里打开这个链接,也就是打开了一...  search.train  \n3  [\"iOS里，把一个页面链接分享给微信好友（会话），好友在微信里打开这个链接,也就是打开了一...  search.train  \n4  [\"iOS里，把一个页面链接分享给微信好友（会话），好友在微信里打开这个链接,也就是打开了一...  search.train  ",
      "text/html": "<div>\n<style scoped>\n    .dataframe tbody tr th:only-of-type {\n        vertical-align: middle;\n    }\n\n    .dataframe tbody tr th {\n        vertical-align: top;\n    }\n\n    .dataframe thead th {\n        text-align: right;\n    }\n</style>\n<table border=\"1\" class=\"dataframe\">\n  <thead>\n    <tr style=\"text-align: right;\">\n      <th></th>\n      <th>question</th>\n      <th>question_id</th>\n      <th>question_type</th>\n      <th>question_fact_opinion</th>\n      <th>doc_title</th>\n      <th>doc_selected</th>\n      <th>doc_paragraphs</th>\n      <th>doc_most_related_paragraph</th>\n      <th>answers</th>\n      <th>src</th>\n    </tr>\n  </thead>\n  <tbody>\n    <tr>\n      <th>0</th>\n      <td>微信分享链接打开app</td>\n      <td>91159</td>\n      <td>DESCRIPTION</td>\n      <td>FACT</td>\n      <td>iOS里,把一个页面链接分享给好友,好友在微信里打开这个链接,怎么跳</td>\n      <td>1.0</td>\n      <td>[\"iOS里,把一个页面链接分享给微信好友(会话),好友在微信里打开这个链接,也就是打开了一...</td>\n      <td>iOS里,把一个页面链接分享给微信好友(会话),好友在微信里打开这个链接,也就是打开了一个网...</td>\n      <td>[\"iOS里，把一个页面链接分享给微信好友（会话），好友在微信里打开这个链接,也就是打开了一...</td>\n      <td>search.train</td>\n    </tr>\n    <tr>\n      <th>1</th>\n      <td>微信分享链接打开app</td>\n      <td>91159</td>\n      <td>DESCRIPTION</td>\n      <td>FACT</td>\n      <td>怎么可以在微信里面打开APP下载链接地址_百度经验</td>\n      <td>1.0</td>\n      <td>[\"百度经验:jingyan.baidu.com\", \"我们都知道手游、APP想在微信分享时...</td>\n      <td>1 首先打开腾讯开放平台,注册开放平台的一个账号,如下图所示。 步骤阅读 2 登录后在”管理...</td>\n      <td>[\"iOS里，把一个页面链接分享给微信好友（会话），好友在微信里打开这个链接,也就是打开了一...</td>\n      <td>search.train</td>\n    </tr>\n    <tr>\n      <th>2</th>\n      <td>微信分享链接打开app</td>\n      <td>91159</td>\n      <td>DESCRIPTION</td>\n      <td>FACT</td>\n      <td>android微信分享的链接怎么启动app-CSDN论坛</td>\n      <td>0.0</td>\n      <td>[\"app中分享到微信已经成功,但是通过分享的连接无法启动app。\", \"分享的链接就是普通...</td>\n      <td>app中分享到微信已经成功,但是通过分享的连接无法启动app。</td>\n      <td>[\"iOS里，把一个页面链接分享给微信好友（会话），好友在微信里打开这个链接,也就是打开了一...</td>\n      <td>search.train</td>\n    </tr>\n    <tr>\n      <th>3</th>\n      <td>微信分享链接打开app</td>\n      <td>91159</td>\n      <td>DESCRIPTION</td>\n      <td>FACT</td>\n      <td>android 从微信分享的网页中启动APP - mattdong1024的专栏 - CSDN</td>\n      <td>0.0</td>\n      <td>[\"版权声明:本文为博主原创文章,未经博主允许不得转载。\", \"项目中有个需求,让用户可以从...</td>\n      <td>项目中有个需求,让用户可以从分享到微信的网页中启动自己的APP,如果本机没有安装该应用程序则...</td>\n      <td>[\"iOS里，把一个页面链接分享给微信好友（会话），好友在微信里打开这个链接,也就是打开了一...</td>\n      <td>search.train</td>\n    </tr>\n    <tr>\n      <th>4</th>\n      <td>微信分享链接打开app</td>\n      <td>91159</td>\n      <td>DESCRIPTION</td>\n      <td>FACT</td>\n      <td>微信浏览器中点击链接怎么打开本地app_百度经验</td>\n      <td>1.0</td>\n      <td>[\"百度经验:jingyan.baidu.com\", \"微信已经成为现代人生活中必不可少的一...</td>\n      <td>1 将手机微信打开。 步骤阅读 2 打开微信中的链接。 步骤阅读 3 如图我们打开百度经验的...</td>\n      <td>[\"iOS里，把一个页面链接分享给微信好友（会话），好友在微信里打开这个链接,也就是打开了一...</td>\n      <td>search.train</td>\n    </tr>\n  </tbody>\n</table>\n</div>"
     },
     "execution_count": 9,
     "metadata": {},
     "output_type": "execute_result"
    }
   ],
   "source": [
    "no_nan_df.head()"
   ],
   "metadata": {
    "collapsed": false,
    "pycharm": {
     "name": "#%%\n",
     "is_executing": true
    }
   }
  },
  {
   "cell_type": "code",
   "execution_count": 10,
   "outputs": [
    {
     "data": {
      "text/plain": "      question  question_id question_type question_fact_opinion  \\\n0  微信分享链接打开app        91159   DESCRIPTION                  FACT   \n1  微信分享链接打开app        91159   DESCRIPTION                  FACT   \n2  微信分享链接打开app        91159   DESCRIPTION                  FACT   \n3  微信分享链接打开app        91159   DESCRIPTION                  FACT   \n4  微信分享链接打开app        91159   DESCRIPTION                  FACT   \n\n                                         doc_title  doc_selected  \\\n0               iOS里,把一个页面链接分享给好友,好友在微信里打开这个链接,怎么跳           1.0   \n1                        怎么可以在微信里面打开APP下载链接地址_百度经验           1.0   \n2                     android微信分享的链接怎么启动app-CSDN论坛           0.0   \n3  android 从微信分享的网页中启动APP - mattdong1024的专栏 - CSDN           0.0   \n4                         微信浏览器中点击链接怎么打开本地app_百度经验           1.0   \n\n                                      doc_paragraphs  \\\n0  [\"iOS里,把一个页面链接分享给微信好友(会话),好友在微信里打开这个链接,也就是打开了一...   \n1  [\"百度经验:jingyan.baidu.com\", \"我们都知道手游、APP想在微信分享时...   \n2  [\"app中分享到微信已经成功,但是通过分享的连接无法启动app。\", \"分享的链接就是普通...   \n3  [\"版权声明:本文为博主原创文章,未经博主允许不得转载。\", \"项目中有个需求,让用户可以从...   \n4  [\"百度经验:jingyan.baidu.com\", \"微信已经成为现代人生活中必不可少的一...   \n\n                          doc_most_related_paragraph  \\\n0  iOS里,把一个页面链接分享给微信好友(会话),好友在微信里打开这个链接,也就是打开了一个网...   \n1  1 首先打开腾讯开放平台,注册开放平台的一个账号,如下图所示。 步骤阅读 2 登录后在”管理...   \n2                    app中分享到微信已经成功,但是通过分享的连接无法启动app。   \n3  项目中有个需求,让用户可以从分享到微信的网页中启动自己的APP,如果本机没有安装该应用程序则...   \n4  1 将手机微信打开。 步骤阅读 2 打开微信中的链接。 步骤阅读 3 如图我们打开百度经验的...   \n\n                                             answers           src  \n0  [\"iOS里，把一个页面链接分享给微信好友（会话），好友在微信里打开这个链接,也就是打开了一...  search.train  \n1  [\"iOS里，把一个页面链接分享给微信好友（会话），好友在微信里打开这个链接,也就是打开了一...  search.train  \n2  [\"iOS里，把一个页面链接分享给微信好友（会话），好友在微信里打开这个链接,也就是打开了一...  search.train  \n3  [\"iOS里，把一个页面链接分享给微信好友（会话），好友在微信里打开这个链接,也就是打开了一...  search.train  \n4  [\"iOS里，把一个页面链接分享给微信好友（会话），好友在微信里打开这个链接,也就是打开了一...  search.train  ",
      "text/html": "<div>\n<style scoped>\n    .dataframe tbody tr th:only-of-type {\n        vertical-align: middle;\n    }\n\n    .dataframe tbody tr th {\n        vertical-align: top;\n    }\n\n    .dataframe thead th {\n        text-align: right;\n    }\n</style>\n<table border=\"1\" class=\"dataframe\">\n  <thead>\n    <tr style=\"text-align: right;\">\n      <th></th>\n      <th>question</th>\n      <th>question_id</th>\n      <th>question_type</th>\n      <th>question_fact_opinion</th>\n      <th>doc_title</th>\n      <th>doc_selected</th>\n      <th>doc_paragraphs</th>\n      <th>doc_most_related_paragraph</th>\n      <th>answers</th>\n      <th>src</th>\n    </tr>\n  </thead>\n  <tbody>\n    <tr>\n      <th>0</th>\n      <td>微信分享链接打开app</td>\n      <td>91159</td>\n      <td>DESCRIPTION</td>\n      <td>FACT</td>\n      <td>iOS里,把一个页面链接分享给好友,好友在微信里打开这个链接,怎么跳</td>\n      <td>1.0</td>\n      <td>[\"iOS里,把一个页面链接分享给微信好友(会话),好友在微信里打开这个链接,也就是打开了一...</td>\n      <td>iOS里,把一个页面链接分享给微信好友(会话),好友在微信里打开这个链接,也就是打开了一个网...</td>\n      <td>[\"iOS里，把一个页面链接分享给微信好友（会话），好友在微信里打开这个链接,也就是打开了一...</td>\n      <td>search.train</td>\n    </tr>\n    <tr>\n      <th>1</th>\n      <td>微信分享链接打开app</td>\n      <td>91159</td>\n      <td>DESCRIPTION</td>\n      <td>FACT</td>\n      <td>怎么可以在微信里面打开APP下载链接地址_百度经验</td>\n      <td>1.0</td>\n      <td>[\"百度经验:jingyan.baidu.com\", \"我们都知道手游、APP想在微信分享时...</td>\n      <td>1 首先打开腾讯开放平台,注册开放平台的一个账号,如下图所示。 步骤阅读 2 登录后在”管理...</td>\n      <td>[\"iOS里，把一个页面链接分享给微信好友（会话），好友在微信里打开这个链接,也就是打开了一...</td>\n      <td>search.train</td>\n    </tr>\n    <tr>\n      <th>2</th>\n      <td>微信分享链接打开app</td>\n      <td>91159</td>\n      <td>DESCRIPTION</td>\n      <td>FACT</td>\n      <td>android微信分享的链接怎么启动app-CSDN论坛</td>\n      <td>0.0</td>\n      <td>[\"app中分享到微信已经成功,但是通过分享的连接无法启动app。\", \"分享的链接就是普通...</td>\n      <td>app中分享到微信已经成功,但是通过分享的连接无法启动app。</td>\n      <td>[\"iOS里，把一个页面链接分享给微信好友（会话），好友在微信里打开这个链接,也就是打开了一...</td>\n      <td>search.train</td>\n    </tr>\n    <tr>\n      <th>3</th>\n      <td>微信分享链接打开app</td>\n      <td>91159</td>\n      <td>DESCRIPTION</td>\n      <td>FACT</td>\n      <td>android 从微信分享的网页中启动APP - mattdong1024的专栏 - CSDN</td>\n      <td>0.0</td>\n      <td>[\"版权声明:本文为博主原创文章,未经博主允许不得转载。\", \"项目中有个需求,让用户可以从...</td>\n      <td>项目中有个需求,让用户可以从分享到微信的网页中启动自己的APP,如果本机没有安装该应用程序则...</td>\n      <td>[\"iOS里，把一个页面链接分享给微信好友（会话），好友在微信里打开这个链接,也就是打开了一...</td>\n      <td>search.train</td>\n    </tr>\n    <tr>\n      <th>4</th>\n      <td>微信分享链接打开app</td>\n      <td>91159</td>\n      <td>DESCRIPTION</td>\n      <td>FACT</td>\n      <td>微信浏览器中点击链接怎么打开本地app_百度经验</td>\n      <td>1.0</td>\n      <td>[\"百度经验:jingyan.baidu.com\", \"微信已经成为现代人生活中必不可少的一...</td>\n      <td>1 将手机微信打开。 步骤阅读 2 打开微信中的链接。 步骤阅读 3 如图我们打开百度经验的...</td>\n      <td>[\"iOS里，把一个页面链接分享给微信好友（会话），好友在微信里打开这个链接,也就是打开了一...</td>\n      <td>search.train</td>\n    </tr>\n  </tbody>\n</table>\n</div>"
     },
     "execution_count": 10,
     "metadata": {},
     "output_type": "execute_result"
    }
   ],
   "source": [
    "no_test_df = df[(df['src']!='search.test') & (df['src']!='zhidao.test')]\n",
    "no_test_df.head()"
   ],
   "metadata": {
    "collapsed": false,
    "pycharm": {
     "name": "#%%\n",
     "is_executing": true
    }
   }
  },
  {
   "cell_type": "code",
   "execution_count": 11,
   "outputs": [],
   "source": [
    "# no_test_df.to_csv('../DuReader_reformatted/DuReader_reformatted_notest.csv', sep='\\t')"
   ],
   "metadata": {
    "collapsed": false,
    "pycharm": {
     "name": "#%%\n",
     "is_executing": true
    }
   }
  },
  {
   "cell_type": "code",
   "execution_count": 12,
   "outputs": [
    {
     "data": {
      "text/plain": "            question  question_id question_type question_fact_opinion  \\\n2        微信分享链接打开app        91159   DESCRIPTION                  FACT   \n3        微信分享链接打开app        91159   DESCRIPTION                  FACT   \n6           睡觉中猝死的方法        91160   DESCRIPTION               OPINION   \n7           睡觉中猝死的方法        91160   DESCRIPTION               OPINION   \n8           睡觉中猝死的方法        91160   DESCRIPTION               OPINION   \n...              ...          ...           ...                   ...   \n1331420     类风湿可以治愈吗       191570        YES_NO               OPINION   \n1331421     类风湿可以治愈吗       191570        YES_NO               OPINION   \n1331423     类风湿可以治愈吗       191570        YES_NO               OPINION   \n1331426       结石怎么排出       191571   DESCRIPTION               OPINION   \n1331427       结石怎么排出       191571   DESCRIPTION               OPINION   \n\n                                               doc_title  doc_selected  \\\n2                           android微信分享的链接怎么启动app-CSDN论坛           0.0   \n3        android 从微信分享的网页中启动APP - mattdong1024的专栏 - CSDN           0.0   \n6                              震惊 这样的睡眠方式竟然会导致猝死 - 三九养生堂           0.0   \n7                           有什么方法可以在睡眠中死亡?比如在_快速问医生_免费咨询           0.0   \n8                     女生半夜睡觉突然尖叫身亡 揭秘猝死原因有哪些 - 专栏 - 中国网            0.0   \n...                                                  ...           ...   \n1331420                                       我的类风湿能治好吗?           0.0   \n1331421                                类风湿能治好不反复吗?哪里能治好?           0.0   \n1331423                                           类风湿好治吗           0.0   \n1331426                                   肾结石从哪里排出?怎么排出?           0.0   \n1331427                                  怎样才能判断结石有没有被排出?           0.0   \n\n                                            doc_paragraphs  \\\n2        [\"app中分享到微信已经成功,但是通过分享的连接无法启动app。\", \"分享的链接就是普通...   \n3        [\"版权声明:本文为博主原创文章,未经博主允许不得转载。\", \"项目中有个需求,让用户可以从...   \n6        [\"人的一生之中有三分之一还多的时间实在床上度过的,换言之就是我们的一生有三分之一还多的寿命...   \n7        [\"健康咨询描述: 有什么方法可以在睡眠中死亡?比如在睡觉前吃了或喝了什么东西,然后睡着后慢...   \n8        [\"女生突然尖叫身亡死因\", \"16日凌晨五时许,福建医科大学的大三学生小梅在宿舍睡觉时,突...   \n...                                                    ...   \n1331420  [\"类风湿关节炎是一种以慢性关节病，人们对它的认识可追溯到18世纪。但是，直到1858年才由...   \n1331421  [\"您好，我是上海市虹桥医院程柏钧风湿关节炎对人的身体有着很严重的影响，建议您早日去医院治疗。\"]   \n1331423  [\"西安神经疾病诊疗中心专家建议要选择科学治疗方法神经细胞移植疗法采用骨髓造血干细胞，通过专...   \n1331426  [\"正常人尿液中的一些溶解物质，因各种原因造成沉淀，潴留于肾内，并持续生长，便可形成结石，一...   \n1331427  [\"1、有心人会留意每次的小便，有时能看到小石头排出；2、没有尿痛、尿血了，腰也不痛了；3、...   \n\n                                doc_most_related_paragraph  \\\n2                          app中分享到微信已经成功,但是通过分享的连接无法启动app。   \n3        项目中有个需求,让用户可以从分享到微信的网页中启动自己的APP,如果本机没有安装该应用程序则...   \n6        睡眠是我们一生之中最寻常也是最重要的事情之一,他对我们来说是无法替换的生命本能,那么何时“睡...   \n7                                 病情分析: 你好一般是安眠药或者去医院进行安乐死   \n8        据小梅的同学介绍,小梅被同学们抬下送到校医室时,心跳已经很慢。校医赶紧给她做心脏按压,进行急...   \n...                                                    ...   \n1331420  类风湿关节炎是一种以慢性关节病，人们对它的认识可追溯到18世纪。但是，直到1858年才由Ga...   \n1331421      您好，我是上海市虹桥医院程柏钧风湿关节炎对人的身体有着很严重的影响，建议您早日去医院治疗。   \n1331423  西安神经疾病诊疗中心专家建议要选择科学治疗方法神经细胞移植疗法采用骨髓造血干细胞，通过专业的...   \n1331426  你好，从尿道里面排出啊。肾结石的治疗方法如下：　　1、药物治疗：药物治疗一般适合于即肾小管内...   \n1331427  1、有心人会留意每次的小便，有时能看到小石头排出；2、没有尿痛、尿血了，腰也不痛了；3、B超...   \n\n                                                   answers           src  \n2        [\"iOS里，把一个页面链接分享给微信好友（会话），好友在微信里打开这个链接,也就是打开了一...  search.train  \n3        [\"iOS里，把一个页面链接分享给微信好友（会话），好友在微信里打开这个链接,也就是打开了一...  search.train  \n6                                    [\"一般是安眠药或者去医院进行安乐死。\"]  search.train  \n7                                    [\"一般是安眠药或者去医院进行安乐死。\"]  search.train  \n8                                    [\"一般是安眠药或者去医院进行安乐死。\"]  search.train  \n...                                                    ...           ...  \n1331420                                                 []    zhidao.dev  \n1331421                                                 []    zhidao.dev  \n1331423                                                 []    zhidao.dev  \n1331426  [\"肾结石的话一般只要不大于1.00cm吃中药就可以治疗好的。肾结石肾结石在尿路结石中占有重...    zhidao.dev  \n1331427  [\"肾结石的话一般只要不大于1.00cm吃中药就可以治疗好的。肾结石肾结石在尿路结石中占有重...    zhidao.dev  \n\n[717185 rows x 10 columns]",
      "text/html": "<div>\n<style scoped>\n    .dataframe tbody tr th:only-of-type {\n        vertical-align: middle;\n    }\n\n    .dataframe tbody tr th {\n        vertical-align: top;\n    }\n\n    .dataframe thead th {\n        text-align: right;\n    }\n</style>\n<table border=\"1\" class=\"dataframe\">\n  <thead>\n    <tr style=\"text-align: right;\">\n      <th></th>\n      <th>question</th>\n      <th>question_id</th>\n      <th>question_type</th>\n      <th>question_fact_opinion</th>\n      <th>doc_title</th>\n      <th>doc_selected</th>\n      <th>doc_paragraphs</th>\n      <th>doc_most_related_paragraph</th>\n      <th>answers</th>\n      <th>src</th>\n    </tr>\n  </thead>\n  <tbody>\n    <tr>\n      <th>2</th>\n      <td>微信分享链接打开app</td>\n      <td>91159</td>\n      <td>DESCRIPTION</td>\n      <td>FACT</td>\n      <td>android微信分享的链接怎么启动app-CSDN论坛</td>\n      <td>0.0</td>\n      <td>[\"app中分享到微信已经成功,但是通过分享的连接无法启动app。\", \"分享的链接就是普通...</td>\n      <td>app中分享到微信已经成功,但是通过分享的连接无法启动app。</td>\n      <td>[\"iOS里，把一个页面链接分享给微信好友（会话），好友在微信里打开这个链接,也就是打开了一...</td>\n      <td>search.train</td>\n    </tr>\n    <tr>\n      <th>3</th>\n      <td>微信分享链接打开app</td>\n      <td>91159</td>\n      <td>DESCRIPTION</td>\n      <td>FACT</td>\n      <td>android 从微信分享的网页中启动APP - mattdong1024的专栏 - CSDN</td>\n      <td>0.0</td>\n      <td>[\"版权声明:本文为博主原创文章,未经博主允许不得转载。\", \"项目中有个需求,让用户可以从...</td>\n      <td>项目中有个需求,让用户可以从分享到微信的网页中启动自己的APP,如果本机没有安装该应用程序则...</td>\n      <td>[\"iOS里，把一个页面链接分享给微信好友（会话），好友在微信里打开这个链接,也就是打开了一...</td>\n      <td>search.train</td>\n    </tr>\n    <tr>\n      <th>6</th>\n      <td>睡觉中猝死的方法</td>\n      <td>91160</td>\n      <td>DESCRIPTION</td>\n      <td>OPINION</td>\n      <td>震惊 这样的睡眠方式竟然会导致猝死 - 三九养生堂</td>\n      <td>0.0</td>\n      <td>[\"人的一生之中有三分之一还多的时间实在床上度过的,换言之就是我们的一生有三分之一还多的寿命...</td>\n      <td>睡眠是我们一生之中最寻常也是最重要的事情之一,他对我们来说是无法替换的生命本能,那么何时“睡...</td>\n      <td>[\"一般是安眠药或者去医院进行安乐死。\"]</td>\n      <td>search.train</td>\n    </tr>\n    <tr>\n      <th>7</th>\n      <td>睡觉中猝死的方法</td>\n      <td>91160</td>\n      <td>DESCRIPTION</td>\n      <td>OPINION</td>\n      <td>有什么方法可以在睡眠中死亡?比如在_快速问医生_免费咨询</td>\n      <td>0.0</td>\n      <td>[\"健康咨询描述: 有什么方法可以在睡眠中死亡?比如在睡觉前吃了或喝了什么东西,然后睡着后慢...</td>\n      <td>病情分析: 你好一般是安眠药或者去医院进行安乐死</td>\n      <td>[\"一般是安眠药或者去医院进行安乐死。\"]</td>\n      <td>search.train</td>\n    </tr>\n    <tr>\n      <th>8</th>\n      <td>睡觉中猝死的方法</td>\n      <td>91160</td>\n      <td>DESCRIPTION</td>\n      <td>OPINION</td>\n      <td>女生半夜睡觉突然尖叫身亡 揭秘猝死原因有哪些 - 专栏 - 中国网</td>\n      <td>0.0</td>\n      <td>[\"女生突然尖叫身亡死因\", \"16日凌晨五时许,福建医科大学的大三学生小梅在宿舍睡觉时,突...</td>\n      <td>据小梅的同学介绍,小梅被同学们抬下送到校医室时,心跳已经很慢。校医赶紧给她做心脏按压,进行急...</td>\n      <td>[\"一般是安眠药或者去医院进行安乐死。\"]</td>\n      <td>search.train</td>\n    </tr>\n    <tr>\n      <th>...</th>\n      <td>...</td>\n      <td>...</td>\n      <td>...</td>\n      <td>...</td>\n      <td>...</td>\n      <td>...</td>\n      <td>...</td>\n      <td>...</td>\n      <td>...</td>\n      <td>...</td>\n    </tr>\n    <tr>\n      <th>1331420</th>\n      <td>类风湿可以治愈吗</td>\n      <td>191570</td>\n      <td>YES_NO</td>\n      <td>OPINION</td>\n      <td>我的类风湿能治好吗?</td>\n      <td>0.0</td>\n      <td>[\"类风湿关节炎是一种以慢性关节病，人们对它的认识可追溯到18世纪。但是，直到1858年才由...</td>\n      <td>类风湿关节炎是一种以慢性关节病，人们对它的认识可追溯到18世纪。但是，直到1858年才由Ga...</td>\n      <td>[]</td>\n      <td>zhidao.dev</td>\n    </tr>\n    <tr>\n      <th>1331421</th>\n      <td>类风湿可以治愈吗</td>\n      <td>191570</td>\n      <td>YES_NO</td>\n      <td>OPINION</td>\n      <td>类风湿能治好不反复吗?哪里能治好?</td>\n      <td>0.0</td>\n      <td>[\"您好，我是上海市虹桥医院程柏钧风湿关节炎对人的身体有着很严重的影响，建议您早日去医院治疗。\"]</td>\n      <td>您好，我是上海市虹桥医院程柏钧风湿关节炎对人的身体有着很严重的影响，建议您早日去医院治疗。</td>\n      <td>[]</td>\n      <td>zhidao.dev</td>\n    </tr>\n    <tr>\n      <th>1331423</th>\n      <td>类风湿可以治愈吗</td>\n      <td>191570</td>\n      <td>YES_NO</td>\n      <td>OPINION</td>\n      <td>类风湿好治吗</td>\n      <td>0.0</td>\n      <td>[\"西安神经疾病诊疗中心专家建议要选择科学治疗方法神经细胞移植疗法采用骨髓造血干细胞，通过专...</td>\n      <td>西安神经疾病诊疗中心专家建议要选择科学治疗方法神经细胞移植疗法采用骨髓造血干细胞，通过专业的...</td>\n      <td>[]</td>\n      <td>zhidao.dev</td>\n    </tr>\n    <tr>\n      <th>1331426</th>\n      <td>结石怎么排出</td>\n      <td>191571</td>\n      <td>DESCRIPTION</td>\n      <td>OPINION</td>\n      <td>肾结石从哪里排出?怎么排出?</td>\n      <td>0.0</td>\n      <td>[\"正常人尿液中的一些溶解物质，因各种原因造成沉淀，潴留于肾内，并持续生长，便可形成结石，一...</td>\n      <td>你好，从尿道里面排出啊。肾结石的治疗方法如下：　　1、药物治疗：药物治疗一般适合于即肾小管内...</td>\n      <td>[\"肾结石的话一般只要不大于1.00cm吃中药就可以治疗好的。肾结石肾结石在尿路结石中占有重...</td>\n      <td>zhidao.dev</td>\n    </tr>\n    <tr>\n      <th>1331427</th>\n      <td>结石怎么排出</td>\n      <td>191571</td>\n      <td>DESCRIPTION</td>\n      <td>OPINION</td>\n      <td>怎样才能判断结石有没有被排出?</td>\n      <td>0.0</td>\n      <td>[\"1、有心人会留意每次的小便，有时能看到小石头排出；2、没有尿痛、尿血了，腰也不痛了；3、...</td>\n      <td>1、有心人会留意每次的小便，有时能看到小石头排出；2、没有尿痛、尿血了，腰也不痛了；3、B超...</td>\n      <td>[\"肾结石的话一般只要不大于1.00cm吃中药就可以治疗好的。肾结石肾结石在尿路结石中占有重...</td>\n      <td>zhidao.dev</td>\n    </tr>\n  </tbody>\n</table>\n<p>717185 rows × 10 columns</p>\n</div>"
     },
     "execution_count": 12,
     "metadata": {},
     "output_type": "execute_result"
    }
   ],
   "source": [
    "no_nan_df[no_nan_df['doc_selected']==0]"
   ],
   "metadata": {
    "collapsed": false,
    "pycharm": {
     "name": "#%%\n",
     "is_executing": true
    }
   }
  },
  {
   "cell_type": "code",
   "execution_count": 13,
   "outputs": [
    {
     "data": {
      "text/plain": "       question  question_id question_type question_fact_opinion  \\\n0   微信分享链接打开app        91159   DESCRIPTION                  FACT   \n1   微信分享链接打开app        91159   DESCRIPTION                  FACT   \n4   微信分享链接打开app        91159   DESCRIPTION                  FACT   \n5      睡觉中猝死的方法        91160   DESCRIPTION               OPINION   \n10  板蓝根颗粒的功效与作用        91161   DESCRIPTION                  FACT   \n\n                             doc_title  doc_selected  \\\n0   iOS里,把一个页面链接分享给好友,好友在微信里打开这个链接,怎么跳           1.0   \n1            怎么可以在微信里面打开APP下载链接地址_百度经验           1.0   \n4             微信浏览器中点击链接怎么打开本地app_百度经验           1.0   \n5         有什么方法可以在睡眠中死亡?比如在_有问必答_快速问医生           1.0   \n10                          板兰根冲剂_百度百科           1.0   \n\n                                       doc_paragraphs  \\\n0   [\"iOS里,把一个页面链接分享给微信好友(会话),好友在微信里打开这个链接,也就是打开了一...   \n1   [\"百度经验:jingyan.baidu.com\", \"我们都知道手游、APP想在微信分享时...   \n4   [\"百度经验:jingyan.baidu.com\", \"微信已经成为现代人生活中必不可少的一...   \n5   [\"健康咨询描述: 有什么方法可以在睡眠中死亡?比如在睡觉前吃了或喝了什么东西,然后睡着后慢...   \n10  [\"板兰根冲剂编辑 锁定\", \"药名:板兰根冲剂。\", \"【英文名称】 Ban Lan Ge...   \n\n                           doc_most_related_paragraph  \\\n0   iOS里,把一个页面链接分享给微信好友(会话),好友在微信里打开这个链接,也就是打开了一个网...   \n1   1 首先打开腾讯开放平台,注册开放平台的一个账号,如下图所示。 步骤阅读 2 登录后在”管理...   \n4   1 将手机微信打开。 步骤阅读 2 打开微信中的链接。 步骤阅读 3 如图我们打开百度经验的...   \n5   病情分析: 你好一般是安眠药或者去医院进行安乐死 指导意见: 不过这不是解决的方法这也是不允...   \n10  【功效与主治】 清热解毒、凉血;用于温热发热、发斑、风热感冒、咽喉肿烂、流行性乙型脑炎、肝炎...   \n\n                                              answers           src  \n0   [\"iOS里，把一个页面链接分享给微信好友（会话），好友在微信里打开这个链接,也就是打开了一...  search.train  \n1   [\"iOS里，把一个页面链接分享给微信好友（会话），好友在微信里打开这个链接,也就是打开了一...  search.train  \n4   [\"iOS里，把一个页面链接分享给微信好友（会话），好友在微信里打开这个链接,也就是打开了一...  search.train  \n5                               [\"一般是安眠药或者去医院进行安乐死。\"]  search.train  \n10  [\"清热解毒、凉血；用于温热发热、发斑、风热感冒、咽喉肿烂、流行性乙型脑炎、肝炎、 腮腺炎 ...  search.train  ",
      "text/html": "<div>\n<style scoped>\n    .dataframe tbody tr th:only-of-type {\n        vertical-align: middle;\n    }\n\n    .dataframe tbody tr th {\n        vertical-align: top;\n    }\n\n    .dataframe thead th {\n        text-align: right;\n    }\n</style>\n<table border=\"1\" class=\"dataframe\">\n  <thead>\n    <tr style=\"text-align: right;\">\n      <th></th>\n      <th>question</th>\n      <th>question_id</th>\n      <th>question_type</th>\n      <th>question_fact_opinion</th>\n      <th>doc_title</th>\n      <th>doc_selected</th>\n      <th>doc_paragraphs</th>\n      <th>doc_most_related_paragraph</th>\n      <th>answers</th>\n      <th>src</th>\n    </tr>\n  </thead>\n  <tbody>\n    <tr>\n      <th>0</th>\n      <td>微信分享链接打开app</td>\n      <td>91159</td>\n      <td>DESCRIPTION</td>\n      <td>FACT</td>\n      <td>iOS里,把一个页面链接分享给好友,好友在微信里打开这个链接,怎么跳</td>\n      <td>1.0</td>\n      <td>[\"iOS里,把一个页面链接分享给微信好友(会话),好友在微信里打开这个链接,也就是打开了一...</td>\n      <td>iOS里,把一个页面链接分享给微信好友(会话),好友在微信里打开这个链接,也就是打开了一个网...</td>\n      <td>[\"iOS里，把一个页面链接分享给微信好友（会话），好友在微信里打开这个链接,也就是打开了一...</td>\n      <td>search.train</td>\n    </tr>\n    <tr>\n      <th>1</th>\n      <td>微信分享链接打开app</td>\n      <td>91159</td>\n      <td>DESCRIPTION</td>\n      <td>FACT</td>\n      <td>怎么可以在微信里面打开APP下载链接地址_百度经验</td>\n      <td>1.0</td>\n      <td>[\"百度经验:jingyan.baidu.com\", \"我们都知道手游、APP想在微信分享时...</td>\n      <td>1 首先打开腾讯开放平台,注册开放平台的一个账号,如下图所示。 步骤阅读 2 登录后在”管理...</td>\n      <td>[\"iOS里，把一个页面链接分享给微信好友（会话），好友在微信里打开这个链接,也就是打开了一...</td>\n      <td>search.train</td>\n    </tr>\n    <tr>\n      <th>4</th>\n      <td>微信分享链接打开app</td>\n      <td>91159</td>\n      <td>DESCRIPTION</td>\n      <td>FACT</td>\n      <td>微信浏览器中点击链接怎么打开本地app_百度经验</td>\n      <td>1.0</td>\n      <td>[\"百度经验:jingyan.baidu.com\", \"微信已经成为现代人生活中必不可少的一...</td>\n      <td>1 将手机微信打开。 步骤阅读 2 打开微信中的链接。 步骤阅读 3 如图我们打开百度经验的...</td>\n      <td>[\"iOS里，把一个页面链接分享给微信好友（会话），好友在微信里打开这个链接,也就是打开了一...</td>\n      <td>search.train</td>\n    </tr>\n    <tr>\n      <th>5</th>\n      <td>睡觉中猝死的方法</td>\n      <td>91160</td>\n      <td>DESCRIPTION</td>\n      <td>OPINION</td>\n      <td>有什么方法可以在睡眠中死亡?比如在_有问必答_快速问医生</td>\n      <td>1.0</td>\n      <td>[\"健康咨询描述: 有什么方法可以在睡眠中死亡?比如在睡觉前吃了或喝了什么东西,然后睡着后慢...</td>\n      <td>病情分析: 你好一般是安眠药或者去医院进行安乐死 指导意见: 不过这不是解决的方法这也是不允...</td>\n      <td>[\"一般是安眠药或者去医院进行安乐死。\"]</td>\n      <td>search.train</td>\n    </tr>\n    <tr>\n      <th>10</th>\n      <td>板蓝根颗粒的功效与作用</td>\n      <td>91161</td>\n      <td>DESCRIPTION</td>\n      <td>FACT</td>\n      <td>板兰根冲剂_百度百科</td>\n      <td>1.0</td>\n      <td>[\"板兰根冲剂编辑 锁定\", \"药名:板兰根冲剂。\", \"【英文名称】 Ban Lan Ge...</td>\n      <td>【功效与主治】 清热解毒、凉血;用于温热发热、发斑、风热感冒、咽喉肿烂、流行性乙型脑炎、肝炎...</td>\n      <td>[\"清热解毒、凉血；用于温热发热、发斑、风热感冒、咽喉肿烂、流行性乙型脑炎、肝炎、 腮腺炎 ...</td>\n      <td>search.train</td>\n    </tr>\n  </tbody>\n</table>\n</div>"
     },
     "execution_count": 13,
     "metadata": {},
     "output_type": "execute_result"
    }
   ],
   "source": [
    "no_nan_sel_df = no_nan_df[no_nan_df['doc_selected']==1]\n",
    "no_nan_sel_df.head()"
   ],
   "metadata": {
    "collapsed": false,
    "pycharm": {
     "name": "#%%\n",
     "is_executing": true
    }
   }
  },
  {
   "cell_type": "code",
   "execution_count": 14,
   "outputs": [
    {
     "name": "stdout",
     "output_type": "stream",
     "text": [
      "<class 'pandas.core.frame.DataFrame'>\n",
      "Int64Index: 608179 entries, 0 to 1331428\n",
      "Data columns (total 10 columns):\n",
      " #   Column                      Non-Null Count   Dtype  \n",
      "---  ------                      --------------   -----  \n",
      " 0   question                    608179 non-null  object \n",
      " 1   question_id                 608179 non-null  int64  \n",
      " 2   question_type               608179 non-null  object \n",
      " 3   question_fact_opinion       608179 non-null  object \n",
      " 4   doc_title                   608179 non-null  object \n",
      " 5   doc_selected                608179 non-null  float64\n",
      " 6   doc_paragraphs              608179 non-null  object \n",
      " 7   doc_most_related_paragraph  608179 non-null  object \n",
      " 8   answers                     608179 non-null  object \n",
      " 9   src                         608179 non-null  object \n",
      "dtypes: float64(1), int64(1), object(8)\n",
      "memory usage: 51.0+ MB\n"
     ]
    }
   ],
   "source": [
    "no_nan_sel_df.info()"
   ],
   "metadata": {
    "collapsed": false,
    "pycharm": {
     "name": "#%%\n",
     "is_executing": true
    }
   }
  },
  {
   "cell_type": "code",
   "execution_count": 15,
   "outputs": [
    {
     "name": "stdout",
     "output_type": "stream",
     "text": [
      "avg doc len 699.129261286562\n",
      "avg most related paragraph len 281.26959990397563\n",
      "avg title len 17.139398104834267\n"
     ]
    }
   ],
   "source": [
    "avg_doc_len = np.mean([len(x) for x in no_nan_sel_df['doc_paragraphs'].tolist()])\n",
    "avg_most_rela_para = np.mean([len(x) for x in no_nan_sel_df['doc_most_related_paragraph'].tolist()])\n",
    "avg_title_len = np.mean([len(x) for x in no_nan_sel_df['doc_title'].tolist()])\n",
    "print('avg doc len', avg_doc_len)\n",
    "print('avg most related paragraph len', avg_most_rela_para)\n",
    "print('avg title len', avg_title_len)"
   ],
   "metadata": {
    "collapsed": false,
    "pycharm": {
     "name": "#%%\n",
     "is_executing": true
    }
   }
  },
  {
   "cell_type": "code",
   "execution_count": 16,
   "outputs": [
    {
     "data": {
      "text/plain": "DESCRIPTION    399206\nENTITY         160508\nYES_NO          48465\nName: question_type, dtype: int64"
     },
     "execution_count": 16,
     "metadata": {},
     "output_type": "execute_result"
    }
   ],
   "source": [
    "no_nan_sel_df['question_type'].value_counts()\n",
    "\n"
   ],
   "metadata": {
    "collapsed": false,
    "pycharm": {
     "name": "#%%\n",
     "is_executing": true
    }
   }
  },
  {
   "cell_type": "code",
   "execution_count": 17,
   "outputs": [
    {
     "data": {
      "text/plain": "OPINION    384930\nFACT       223249\nName: question_fact_opinion, dtype: int64"
     },
     "execution_count": 17,
     "metadata": {},
     "output_type": "execute_result"
    }
   ],
   "source": [
    "no_nan_sel_df['question_fact_opinion'].value_counts()\n"
   ],
   "metadata": {
    "collapsed": false,
    "pycharm": {
     "name": "#%%\n",
     "is_executing": true
    }
   }
  },
  {
   "cell_type": "code",
   "execution_count": 37,
   "outputs": [
    {
     "name": "stdout",
     "output_type": "stream",
     "text": [
      "<class 'pandas.core.frame.DataFrame'>\n",
      "Int64Index: 608179 entries, 0 to 1331428\n",
      "Data columns (total 10 columns):\n",
      " #   Column                      Non-Null Count   Dtype  \n",
      "---  ------                      --------------   -----  \n",
      " 0   question                    608179 non-null  object \n",
      " 1   question_id                 608179 non-null  int64  \n",
      " 2   question_type               608179 non-null  object \n",
      " 3   question_fact_opinion       608179 non-null  object \n",
      " 4   doc_title                   608179 non-null  object \n",
      " 5   doc_selected                608179 non-null  float64\n",
      " 6   doc_paragraphs              608179 non-null  object \n",
      " 7   doc_most_related_paragraph  608179 non-null  object \n",
      " 8   answers                     608179 non-null  object \n",
      " 9   src                         608179 non-null  object \n",
      "dtypes: float64(1), int64(1), object(8)\n",
      "memory usage: 51.0+ MB\n"
     ]
    },
    {
     "data": {
      "text/plain": "281.26959990397563"
     },
     "execution_count": 37,
     "metadata": {},
     "output_type": "execute_result"
    }
   ],
   "source": [
    "no_nan_sel_df.info()\n",
    "np.mean(no_nan_sel_df['doc_most_related_paragraph'].str.len())"
   ],
   "metadata": {
    "collapsed": false,
    "pycharm": {
     "name": "#%%\n",
     "is_executing": true
    }
   }
  },
  {
   "cell_type": "code",
   "execution_count": 35,
   "outputs": [
    {
     "name": "stdout",
     "output_type": "stream",
     "text": [
      "<class 'pandas.core.frame.DataFrame'>\n",
      "Int64Index: 579056 entries, 0 to 1331428\n",
      "Data columns (total 10 columns):\n",
      " #   Column                      Non-Null Count   Dtype  \n",
      "---  ------                      --------------   -----  \n",
      " 0   question                    579056 non-null  object \n",
      " 1   question_id                 579056 non-null  int64  \n",
      " 2   question_type               579056 non-null  object \n",
      " 3   question_fact_opinion       579056 non-null  object \n",
      " 4   doc_title                   579056 non-null  object \n",
      " 5   doc_selected                579056 non-null  float64\n",
      " 6   doc_paragraphs              579056 non-null  object \n",
      " 7   doc_most_related_paragraph  579056 non-null  object \n",
      " 8   answers                     579056 non-null  object \n",
      " 9   src                         579056 non-null  object \n",
      "dtypes: float64(1), int64(1), object(8)\n",
      "memory usage: 48.6+ MB\n"
     ]
    },
    {
     "data": {
      "text/plain": "<matplotlib.axes._subplots.AxesSubplot at 0x1acc7e16550>"
     },
     "execution_count": 35,
     "metadata": {},
     "output_type": "execute_result"
    },
    {
     "data": {
      "text/plain": "<Figure size 432x288 with 1 Axes>",
      "image/png": "[encoded data removed]"
     },
     "metadata": {
      "needs_background": "light"
     },
     "output_type": "display_data"
    }
   ],
   "source": [
    "length_filter_df = no_nan_sel_df[no_nan_sel_df['doc_most_related_paragraph'].str.len() < 1000]\n",
    "length_filter_df.info()\n",
    "length_filter_df['doc_most_related_paragraph'].str.len().hist(bins=100)"
   ],
   "metadata": {
    "collapsed": false,
    "pycharm": {
     "name": "#%%\n",
     "is_executing": true
    }
   }
  },
  {
   "cell_type": "code",
   "execution_count": 39,
   "outputs": [
    {
     "data": {
      "text/plain": "189.04993817523695"
     },
     "execution_count": 39,
     "metadata": {},
     "output_type": "execute_result"
    }
   ],
   "source": [
    "np.mean(length_filter_df['doc_most_related_paragraph'].str.len())"
   ],
   "metadata": {
    "collapsed": false,
    "pycharm": {
     "name": "#%%\n",
     "is_executing": true
    }
   }
  },
  {
   "cell_type": "code",
   "execution_count": 34,
   "outputs": [
    {
     "data": {
      "text/plain": "<matplotlib.axes._subplots.AxesSubplot at 0x1acccaf3ac8>"
     },
     "execution_count": 34,
     "metadata": {},
     "output_type": "execute_result"
    },
    {
     "data": {
      "text/plain": "<Figure size 432x288 with 1 Axes>",
      "image/png": "[encoded data removed]"
     },
     "metadata": {
      "needs_background": "light"
     },
     "output_type": "display_data"
    }
   ],
   "source": [
    "sns.distplot(length_filter_df['doc_most_related_paragraph'].str.len())\n"
   ],
   "metadata": {
    "collapsed": false,
    "pycharm": {
     "name": "#%%\n",
     "is_executing": true
    }
   }
  },
  {
   "cell_type": "code",
   "execution_count": 46,
   "outputs": [
    {
     "name": "stdout",
     "output_type": "stream",
     "text": [
      "<class 'pandas.core.frame.DataFrame'>\n",
      "Int64Index: 577014 entries, 0 to 1331425\n",
      "Data columns (total 10 columns):\n",
      " #   Column                      Non-Null Count   Dtype  \n",
      "---  ------                      --------------   -----  \n",
      " 0   question                    577014 non-null  object \n",
      " 1   question_id                 577014 non-null  int64  \n",
      " 2   question_type               577014 non-null  object \n",
      " 3   question_fact_opinion       577014 non-null  object \n",
      " 4   doc_title                   577014 non-null  object \n",
      " 5   doc_selected                577014 non-null  float64\n",
      " 6   doc_paragraphs              577014 non-null  object \n",
      " 7   doc_most_related_paragraph  577014 non-null  object \n",
      " 8   answers                     577014 non-null  object \n",
      " 9   src                         577014 non-null  object \n",
      "dtypes: float64(1), int64(1), object(8)\n",
      "memory usage: 48.4+ MB\n"
     ]
    },
    {
     "data": {
      "text/plain": "513.406248375256"
     },
     "execution_count": 46,
     "metadata": {},
     "output_type": "execute_result"
    },
    {
     "data": {
      "text/plain": "<Figure size 432x288 with 1 Axes>",
      "image/png": "[encoded data removed]"
     },
     "metadata": {
      "needs_background": "light"
     },
     "output_type": "display_data"
    }
   ],
   "source": [
    "all_doc_length_filter_df = no_nan_sel_df[no_nan_sel_df['doc_paragraphs'].str.len() < 2500]\n",
    "all_doc_length_filter_df.info()\n",
    "all_doc_length_filter_df['doc_paragraphs'].str.len().hist(bins=100)\n",
    "np.mean(all_doc_length_filter_df['doc_paragraphs'].str.len())\n",
    "\n"
   ],
   "metadata": {
    "collapsed": false,
    "pycharm": {
     "name": "#%%\n"
    }
   }
  },
  {
   "cell_type": "code",
   "execution_count": 48,
   "outputs": [],
   "source": [
    "no_nan_sel_df.to_csv('../DuReader_reformatted/DuReader_reformatted_nonan_selected.csv', sep='\\t')\n"
   ],
   "metadata": {
    "collapsed": false,
    "pycharm": {
     "name": "#%%\n"
    }
   }
  },
  {
   "cell_type": "code",
   "execution_count": null,
   "outputs": [],
   "source": [
    "no_nan_sel_df[0:100].to_csv('../DuReader_reformatted/DuReader_demo.csv', sep='\\t')\n"
   ],
   "metadata": {
    "collapsed": false,
    "pycharm": {
     "name": "#%%\n"
    }
   }
  },
  {
   "cell_type": "code",
   "execution_count": 51,
   "outputs": [],
   "source": [
    "\n"
   ],
   "metadata": {
    "collapsed": false,
    "pycharm": {
     "name": "#%%\n",
     "is_executing": true
    }
   }
  },
  {
   "cell_type": "code",
   "execution_count": null,
   "outputs": [],
   "source": [
    "\n"
   ],
   "metadata": {
    "collapsed": false,
    "pycharm": {
     "name": "#%%\n",
     "is_executing": true
    }
   }
  }
 ],
 "metadata": {
  "kernelspec": {
   "name": "python3",
   "language": "python",
   "display_name": "Python 3"
  },
  "language_info": {
   "codemirror_mode": {
    "name": "ipython",
    "version": 2
   },
   "file_extension": ".py",
   "mimetype": "text/x-python",
   "name": "python",
   "nbconvert_exporter": "python",
   "pygments_lexer": "ipython2",
   "version": "2.7.6"
  }
 },
 "nbformat": 4,
 "nbformat_minor": 0
}