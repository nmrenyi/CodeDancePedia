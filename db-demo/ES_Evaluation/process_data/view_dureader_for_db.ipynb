{
 "cells": [
  {
   "cell_type": "code",
   "execution_count": 25,
   "metadata": {
    "collapsed": true
   },
   "outputs": [],
   "source": [
    "import pandas as pd\n",
    "import numpy as np\n",
    "from sklearn.utils import shuffle\n",
    "import matplotlib.pyplot as plt"
   ]
  },
  {
   "cell_type": "code",
   "execution_count": 2,
   "outputs": [
    {
     "name": "stderr",
     "output_type": "stream",
     "text": [
      "D:\\Programs\\Anaconda3\\lib\\site-packages\\numpy\\lib\\arraysetops.py:569: FutureWarning: elementwise comparison failed; returning scalar instead, but in the future will perform elementwise comparison\n",
      "  mask |= (ar1 == a)\n"
     ]
    },
    {
     "name": "stdout",
     "output_type": "stream",
     "text": [
      "<class 'pandas.core.frame.DataFrame'>\n",
      "Int64Index: 4452691 entries, 0 to 4452690\n",
      "Data columns (total 4 columns):\n",
      " #   Column         Dtype \n",
      "---  ------         ----- \n",
      " 0   question       object\n",
      " 1   doc_title      object\n",
      " 2   doc_paragraph  object\n",
      " 3   src            object\n",
      "dtypes: object(4)\n",
      "memory usage: 169.9+ MB\n"
     ]
    }
   ],
   "source": [
    "df = pd.read_csv('../DuReader_reformatted/DuReader_for_dbCombinedPara500-150.csv', sep='\\t', index_col=0)\n",
    "df.info()"
   ],
   "metadata": {
    "collapsed": false,
    "pycharm": {
     "name": "#%%\n"
    }
   }
  },
  {
   "cell_type": "code",
   "execution_count": 3,
   "outputs": [
    {
     "data": {
      "text/plain": "      question                           doc_title  \\\n0  微信分享链接打开app  iOS里,把一个页面链接分享给好友,好友在微信里打开这个链接,怎么跳   \n1  微信分享链接打开app  iOS里,把一个页面链接分享给好友,好友在微信里打开这个链接,怎么跳   \n2  微信分享链接打开app  iOS里,把一个页面链接分享给好友,好友在微信里打开这个链接,怎么跳   \n3  微信分享链接打开app  iOS里,把一个页面链接分享给好友,好友在微信里打开这个链接,怎么跳   \n4  微信分享链接打开app           怎么可以在微信里面打开APP下载链接地址_百度经验   \n\n                                       doc_paragraph           src  \n0  iOS里,把一个页面链接分享给微信好友(会话),好友在微信里打开这个链接,也就是打开了一个网...  search.train  \n1  微信中不能用自定义url的方式,微信提供了打开第三方应用的接口:launch3rdApp谢。...  search.train  \n2  目前已经解决直接从微信打开的链接可以直接点击下载APP的跳转,无需再通过另外浏览中打开才能点...  search.train  \n3  方法一:微信API--WXAppExtendObject.(参考app-微博)方法二:iOS...  search.train  \n4  百度经验:jingyan.baidu.com我们都知道手游、APP想在微信分享时,下载的链接...  search.train  ",
      "text/html": "<div>\n<style scoped>\n    .dataframe tbody tr th:only-of-type {\n        vertical-align: middle;\n    }\n\n    .dataframe tbody tr th {\n        vertical-align: top;\n    }\n\n    .dataframe thead th {\n        text-align: right;\n    }\n</style>\n<table border=\"1\" class=\"dataframe\">\n  <thead>\n    <tr style=\"text-align: right;\">\n      <th></th>\n      <th>question</th>\n      <th>doc_title</th>\n      <th>doc_paragraph</th>\n      <th>src</th>\n    </tr>\n  </thead>\n  <tbody>\n    <tr>\n      <th>0</th>\n      <td>微信分享链接打开app</td>\n      <td>iOS里,把一个页面链接分享给好友,好友在微信里打开这个链接,怎么跳</td>\n      <td>iOS里,把一个页面链接分享给微信好友(会话),好友在微信里打开这个链接,也就是打开了一个网...</td>\n      <td>search.train</td>\n    </tr>\n    <tr>\n      <th>1</th>\n      <td>微信分享链接打开app</td>\n      <td>iOS里,把一个页面链接分享给好友,好友在微信里打开这个链接,怎么跳</td>\n      <td>微信中不能用自定义url的方式,微信提供了打开第三方应用的接口:launch3rdApp谢。...</td>\n      <td>search.train</td>\n    </tr>\n    <tr>\n      <th>2</th>\n      <td>微信分享链接打开app</td>\n      <td>iOS里,把一个页面链接分享给好友,好友在微信里打开这个链接,怎么跳</td>\n      <td>目前已经解决直接从微信打开的链接可以直接点击下载APP的跳转,无需再通过另外浏览中打开才能点...</td>\n      <td>search.train</td>\n    </tr>\n    <tr>\n      <th>3</th>\n      <td>微信分享链接打开app</td>\n      <td>iOS里,把一个页面链接分享给好友,好友在微信里打开这个链接,怎么跳</td>\n      <td>方法一:微信API--WXAppExtendObject.(参考app-微博)方法二:iOS...</td>\n      <td>search.train</td>\n    </tr>\n    <tr>\n      <th>4</th>\n      <td>微信分享链接打开app</td>\n      <td>怎么可以在微信里面打开APP下载链接地址_百度经验</td>\n      <td>百度经验:jingyan.baidu.com我们都知道手游、APP想在微信分享时,下载的链接...</td>\n      <td>search.train</td>\n    </tr>\n  </tbody>\n</table>\n</div>"
     },
     "execution_count": 3,
     "metadata": {},
     "output_type": "execute_result"
    }
   ],
   "source": [
    "df.head()\n",
    "\n"
   ],
   "metadata": {
    "collapsed": false,
    "pycharm": {
     "name": "#%%\n"
    }
   }
  },
  {
   "cell_type": "code",
   "execution_count": 4,
   "outputs": [
    {
     "data": {
      "text/plain": "            question                           doc_title  \\\n0        微信分享链接打开app  iOS里,把一个页面链接分享给好友,好友在微信里打开这个链接,怎么跳   \n1        微信分享链接打开app  iOS里,把一个页面链接分享给好友,好友在微信里打开这个链接,怎么跳   \n2        微信分享链接打开app  iOS里,把一个页面链接分享给好友,好友在微信里打开这个链接,怎么跳   \n3        微信分享链接打开app  iOS里,把一个页面链接分享给好友,好友在微信里打开这个链接,怎么跳   \n4        微信分享链接打开app           怎么可以在微信里面打开APP下载链接地址_百度经验   \n...              ...                                 ...   \n4452686   井柏然和郑爽闹翻原因                     井柏然为什么突然和郑爽划清界限   \n4452687   井柏然和郑爽闹翻原因          井柏然为什么要删光关于郑爽微博?井柏然郑爽有什么矛盾   \n4452688   井柏然和郑爽闹翻原因                       井柏然不喜欢郑爽原因有哪些   \n4452689   井柏然和郑爽闹翻原因                         井柏然和郑爽是什么关系   \n4452690   井柏然和郑爽闹翻原因                      井柏然突然为什么不喜欢郑爽了   \n\n                                             doc_paragraph           src  \n0        iOS里,把一个页面链接分享给微信好友(会话),好友在微信里打开这个链接,也就是打开了一个网...  search.train  \n1        微信中不能用自定义url的方式,微信提供了打开第三方应用的接口:launch3rdApp谢。...  search.train  \n2        目前已经解决直接从微信打开的链接可以直接点击下载APP的跳转,无需再通过另外浏览中打开才能点...  search.train  \n3        方法一:微信API--WXAppExtendObject.(参考app-微博)方法二:iOS...  search.train  \n4        百度经验:jingyan.baidu.com我们都知道手游、APP想在微信分享时,下载的链接...  search.train  \n...                                                    ...           ...  \n4452686  他不喜欢传绯闻的也不喜欢不清不楚况且郑爽也有了男朋友应为郑爽有对象了，为了避嫌郑爽有男朋友胡...   zhidao.test  \n4452687  被粉丝们奉为“正经夫妇”的井柏然与郑爽，堪称“国民CP”，两人在《花少2》中的每一次腻歪都冒...   zhidao.test  \n4452688                                         因为井柏然喜欢倪妮呀   zhidao.test  \n4452689  最近由郑爽和井柏然主演的《相爱穿梭千年》电视剧在湖南卫视正式上映。郑爽和井柏然因拍戏热吻三个...   zhidao.test  \n4452690                    腻了娱乐圈那些事，除了他们自己谁都不清楚，说不定都没喜欢过呢？   zhidao.test  \n\n[4452691 rows x 4 columns]",
      "text/html": "<div>\n<style scoped>\n    .dataframe tbody tr th:only-of-type {\n        vertical-align: middle;\n    }\n\n    .dataframe tbody tr th {\n        vertical-align: top;\n    }\n\n    .dataframe thead th {\n        text-align: right;\n    }\n</style>\n<table border=\"1\" class=\"dataframe\">\n  <thead>\n    <tr style=\"text-align: right;\">\n      <th></th>\n      <th>question</th>\n      <th>doc_title</th>\n      <th>doc_paragraph</th>\n      <th>src</th>\n    </tr>\n  </thead>\n  <tbody>\n    <tr>\n      <th>0</th>\n      <td>微信分享链接打开app</td>\n      <td>iOS里,把一个页面链接分享给好友,好友在微信里打开这个链接,怎么跳</td>\n      <td>iOS里,把一个页面链接分享给微信好友(会话),好友在微信里打开这个链接,也就是打开了一个网...</td>\n      <td>search.train</td>\n    </tr>\n    <tr>\n      <th>1</th>\n      <td>微信分享链接打开app</td>\n      <td>iOS里,把一个页面链接分享给好友,好友在微信里打开这个链接,怎么跳</td>\n      <td>微信中不能用自定义url的方式,微信提供了打开第三方应用的接口:launch3rdApp谢。...</td>\n      <td>search.train</td>\n    </tr>\n    <tr>\n      <th>2</th>\n      <td>微信分享链接打开app</td>\n      <td>iOS里,把一个页面链接分享给好友,好友在微信里打开这个链接,怎么跳</td>\n      <td>目前已经解决直接从微信打开的链接可以直接点击下载APP的跳转,无需再通过另外浏览中打开才能点...</td>\n      <td>search.train</td>\n    </tr>\n    <tr>\n      <th>3</th>\n      <td>微信分享链接打开app</td>\n      <td>iOS里,把一个页面链接分享给好友,好友在微信里打开这个链接,怎么跳</td>\n      <td>方法一:微信API--WXAppExtendObject.(参考app-微博)方法二:iOS...</td>\n      <td>search.train</td>\n    </tr>\n    <tr>\n      <th>4</th>\n      <td>微信分享链接打开app</td>\n      <td>怎么可以在微信里面打开APP下载链接地址_百度经验</td>\n      <td>百度经验:jingyan.baidu.com我们都知道手游、APP想在微信分享时,下载的链接...</td>\n      <td>search.train</td>\n    </tr>\n    <tr>\n      <th>...</th>\n      <td>...</td>\n      <td>...</td>\n      <td>...</td>\n      <td>...</td>\n    </tr>\n    <tr>\n      <th>4452686</th>\n      <td>井柏然和郑爽闹翻原因</td>\n      <td>井柏然为什么突然和郑爽划清界限</td>\n      <td>他不喜欢传绯闻的也不喜欢不清不楚况且郑爽也有了男朋友应为郑爽有对象了，为了避嫌郑爽有男朋友胡...</td>\n      <td>zhidao.test</td>\n    </tr>\n    <tr>\n      <th>4452687</th>\n      <td>井柏然和郑爽闹翻原因</td>\n      <td>井柏然为什么要删光关于郑爽微博?井柏然郑爽有什么矛盾</td>\n      <td>被粉丝们奉为“正经夫妇”的井柏然与郑爽，堪称“国民CP”，两人在《花少2》中的每一次腻歪都冒...</td>\n      <td>zhidao.test</td>\n    </tr>\n    <tr>\n      <th>4452688</th>\n      <td>井柏然和郑爽闹翻原因</td>\n      <td>井柏然不喜欢郑爽原因有哪些</td>\n      <td>因为井柏然喜欢倪妮呀</td>\n      <td>zhidao.test</td>\n    </tr>\n    <tr>\n      <th>4452689</th>\n      <td>井柏然和郑爽闹翻原因</td>\n      <td>井柏然和郑爽是什么关系</td>\n      <td>最近由郑爽和井柏然主演的《相爱穿梭千年》电视剧在湖南卫视正式上映。郑爽和井柏然因拍戏热吻三个...</td>\n      <td>zhidao.test</td>\n    </tr>\n    <tr>\n      <th>4452690</th>\n      <td>井柏然和郑爽闹翻原因</td>\n      <td>井柏然突然为什么不喜欢郑爽了</td>\n      <td>腻了娱乐圈那些事，除了他们自己谁都不清楚，说不定都没喜欢过呢？</td>\n      <td>zhidao.test</td>\n    </tr>\n  </tbody>\n</table>\n<p>4452691 rows × 4 columns</p>\n</div>"
     },
     "execution_count": 4,
     "metadata": {},
     "output_type": "execute_result"
    }
   ],
   "source": [
    "df"
   ],
   "metadata": {
    "collapsed": false,
    "pycharm": {
     "name": "#%%\n"
    }
   }
  },
  {
   "cell_type": "code",
   "execution_count": 15,
   "outputs": [
    {
     "data": {
      "text/plain": "             question                      doc_title  \\\n4220558  恶魔高校dd第四季几时出                 恶魔高校d×d第四季几时出？   \n3043815      怎样积累写作素材          十种方法来积累写作素材 怎么来积累写作素材   \n3040952      meo是什么意思                     Meo 是什么意思？   \n4095910    保卫卢沟桥3.6攻略           魔兽地图保卫卢沟桥攻略和秘籍!!完美版的   \n2105655     资料皮肤怎么自定义                怎么自定义qq资料卡皮肤听语音   \n...               ...                            ...   \n1312538     北京市属单位有哪些      2015年北京市进京指标的企业和公司名单有哪些？    \n3430369     ps怎么改背景颜色  简单快速利用photoshop给证件照换背景方法_百度经验   \n1596678     怎样提升身体的阳气                    四种方法提升体内阳气    \n3682511  大天使之剑神器多少级开启  大天使之剑教你如何成为升级最快圣导 - 聚侠大天使之剑官网   \n2823914        描写说的词语                     表示说的词语有哪些?   \n\n                                             doc_paragraph           src  \n4220558  已经宣布制作，但放送日期未定。隔了好几年了\\n不出了  放弃吧根据日本社交网站透露，在《Hi...   zhidao.test  \n3043815  阳光照耀在重重叠叠的叶间，只留下斑驳的阳光。晶莹剔透的露珠在树叶间摇摇欲坠，掉落在水洼中发出...  zhidao.train  \n3040952  MEO \\n=Maintenance Engineering Order 保养工程规则音译吧...  zhidao.train  \n4095910  哪个版本算了反正有门的话建议玩萨尔(兽人先知）如果是没门的话建议玩卡尔（人族血魔）一般尤迪安...   zhidao.test  \n2105655  腾讯的QQ2013提供了可以自定义的资料卡皮肤，不过可惜的是非会员的用户只可以自定义几种皮肤...  search.train  \n...                                                    ...           ...  \n1312538  20 中国软件与技术服务股份有限公司 13421 中国建筑股份有限公司 12022 中国电力...  search.train  \n3430369  百度经验:jingyan.baidu.com 经验内容仅供参考,如果您需解决具体问题(尤其法...   search.test  \n1596678  1.　最简单：晒太阳养阳最简单的方法晒太阳。晒太阳背光而坐最好，因为背部有一条不可忽视的经络...  search.train  \n3682511   奥拉星盘古在哪里 奥拉星盘古怎么获得 奥奇传说机械之心阿瑞斯最高战斗力是多少 英雄大乱斗 ...   search.test  \n2823914  说话 谈话 讲话 叙述 陈述 复述 申述 说明 声明 讲明 谈论 辩论 议论 讨论 商谈 哈...  zhidao.train  \n\n[4452691 rows x 4 columns]",
      "text/html": "<div>\n<style scoped>\n    .dataframe tbody tr th:only-of-type {\n        vertical-align: middle;\n    }\n\n    .dataframe tbody tr th {\n        vertical-align: top;\n    }\n\n    .dataframe thead th {\n        text-align: right;\n    }\n</style>\n<table border=\"1\" class=\"dataframe\">\n  <thead>\n    <tr style=\"text-align: right;\">\n      <th></th>\n      <th>question</th>\n      <th>doc_title</th>\n      <th>doc_paragraph</th>\n      <th>src</th>\n    </tr>\n  </thead>\n  <tbody>\n    <tr>\n      <th>4220558</th>\n      <td>恶魔高校dd第四季几时出</td>\n      <td>恶魔高校d×d第四季几时出？</td>\n      <td>已经宣布制作，但放送日期未定。隔了好几年了\\n不出了  放弃吧根据日本社交网站透露，在《Hi...</td>\n      <td>zhidao.test</td>\n    </tr>\n    <tr>\n      <th>3043815</th>\n      <td>怎样积累写作素材</td>\n      <td>十种方法来积累写作素材 怎么来积累写作素材</td>\n      <td>阳光照耀在重重叠叠的叶间，只留下斑驳的阳光。晶莹剔透的露珠在树叶间摇摇欲坠，掉落在水洼中发出...</td>\n      <td>zhidao.train</td>\n    </tr>\n    <tr>\n      <th>3040952</th>\n      <td>meo是什么意思</td>\n      <td>Meo 是什么意思？</td>\n      <td>MEO \\n=Maintenance Engineering Order 保养工程规则音译吧...</td>\n      <td>zhidao.train</td>\n    </tr>\n    <tr>\n      <th>4095910</th>\n      <td>保卫卢沟桥3.6攻略</td>\n      <td>魔兽地图保卫卢沟桥攻略和秘籍!!完美版的</td>\n      <td>哪个版本算了反正有门的话建议玩萨尔(兽人先知）如果是没门的话建议玩卡尔（人族血魔）一般尤迪安...</td>\n      <td>zhidao.test</td>\n    </tr>\n    <tr>\n      <th>2105655</th>\n      <td>资料皮肤怎么自定义</td>\n      <td>怎么自定义qq资料卡皮肤听语音</td>\n      <td>腾讯的QQ2013提供了可以自定义的资料卡皮肤，不过可惜的是非会员的用户只可以自定义几种皮肤...</td>\n      <td>search.train</td>\n    </tr>\n    <tr>\n      <th>...</th>\n      <td>...</td>\n      <td>...</td>\n      <td>...</td>\n      <td>...</td>\n    </tr>\n    <tr>\n      <th>1312538</th>\n      <td>北京市属单位有哪些</td>\n      <td>2015年北京市进京指标的企业和公司名单有哪些？</td>\n      <td>20 中国软件与技术服务股份有限公司 13421 中国建筑股份有限公司 12022 中国电力...</td>\n      <td>search.train</td>\n    </tr>\n    <tr>\n      <th>3430369</th>\n      <td>ps怎么改背景颜色</td>\n      <td>简单快速利用photoshop给证件照换背景方法_百度经验</td>\n      <td>百度经验:jingyan.baidu.com 经验内容仅供参考,如果您需解决具体问题(尤其法...</td>\n      <td>search.test</td>\n    </tr>\n    <tr>\n      <th>1596678</th>\n      <td>怎样提升身体的阳气</td>\n      <td>四种方法提升体内阳气</td>\n      <td>1.　最简单：晒太阳养阳最简单的方法晒太阳。晒太阳背光而坐最好，因为背部有一条不可忽视的经络...</td>\n      <td>search.train</td>\n    </tr>\n    <tr>\n      <th>3682511</th>\n      <td>大天使之剑神器多少级开启</td>\n      <td>大天使之剑教你如何成为升级最快圣导 - 聚侠大天使之剑官网</td>\n      <td>奥拉星盘古在哪里 奥拉星盘古怎么获得 奥奇传说机械之心阿瑞斯最高战斗力是多少 英雄大乱斗 ...</td>\n      <td>search.test</td>\n    </tr>\n    <tr>\n      <th>2823914</th>\n      <td>描写说的词语</td>\n      <td>表示说的词语有哪些?</td>\n      <td>说话 谈话 讲话 叙述 陈述 复述 申述 说明 声明 讲明 谈论 辩论 议论 讨论 商谈 哈...</td>\n      <td>zhidao.train</td>\n    </tr>\n  </tbody>\n</table>\n<p>4452691 rows × 4 columns</p>\n</div>"
     },
     "execution_count": 15,
     "metadata": {},
     "output_type": "execute_result"
    }
   ],
   "source": [
    "shuffle(df)"
   ],
   "metadata": {
    "collapsed": false,
    "pycharm": {
     "name": "#%%\n"
    }
   }
  },
  {
   "cell_type": "code",
   "execution_count": 5,
   "outputs": [
    {
     "data": {
      "text/plain": "search.train    2132141\nzhidao.train     932332\nsearch.test      863977\nzhidao.test      421008\nsearch.dev        71470\nzhidao.dev        31763\nName: src, dtype: int64"
     },
     "execution_count": 5,
     "metadata": {},
     "output_type": "execute_result"
    }
   ],
   "source": [
    "df['src'].value_counts()"
   ],
   "metadata": {
    "collapsed": false,
    "pycharm": {
     "name": "#%%\n"
    }
   }
  },
  {
   "cell_type": "code",
   "execution_count": 7,
   "outputs": [],
   "source": [],
   "metadata": {
    "collapsed": false,
    "pycharm": {
     "name": "#%%\n"
    }
   }
  },
  {
   "cell_type": "code",
   "execution_count": 8,
   "outputs": [
    {
     "data": {
      "text/plain": "nan"
     },
     "execution_count": 8,
     "metadata": {},
     "output_type": "execute_result"
    }
   ],
   "source": [
    "np.mean(list(df['doc_paragraph'].str.len()))\n"
   ],
   "metadata": {
    "collapsed": false,
    "pycharm": {
     "name": "#%%\n"
    }
   }
  },
  {
   "cell_type": "code",
   "execution_count": 10,
   "outputs": [],
   "source": [
    "len_df = df['doc_paragraph'].str.len()"
   ],
   "metadata": {
    "collapsed": false,
    "pycharm": {
     "name": "#%%\n"
    }
   }
  },
  {
   "cell_type": "code",
   "execution_count": 31,
   "outputs": [
    {
     "data": {
      "text/plain": "<matplotlib.axes._subplots.AxesSubplot at 0x1cd542d3320>"
     },
     "execution_count": 31,
     "metadata": {},
     "output_type": "execute_result"
    },
    {
     "data": {
      "text/plain": "<Figure size 432x288 with 1 Axes>",
      "image/png": "[encoded data removed]"
     },
     "metadata": {
      "needs_background": "light"
     },
     "output_type": "display_data"
    }
   ],
   "source": [
    "len_df[len_df < 1000].dropna().hist(bins=100)"
   ],
   "metadata": {
    "collapsed": false,
    "pycharm": {
     "name": "#%%\n"
    }
   }
  },
  {
   "cell_type": "code",
   "execution_count": 13,
   "outputs": [
    {
     "data": {
      "text/plain": "288.21990058287906"
     },
     "execution_count": 13,
     "metadata": {},
     "output_type": "execute_result"
    }
   ],
   "source": [
    "np.mean(list(len_df.dropna()))"
   ],
   "metadata": {
    "collapsed": false,
    "pycharm": {
     "name": "#%%\n"
    }
   }
  },
  {
   "cell_type": "code",
   "execution_count": 21,
   "outputs": [
    {
     "data": {
      "text/plain": "array([153., 257., 151., ...,  10.,  92.,  31.])"
     },
     "execution_count": 21,
     "metadata": {},
     "output_type": "execute_result"
    }
   ],
   "source": [
    "len_df.values"
   ],
   "metadata": {
    "collapsed": false,
    "pycharm": {
     "name": "#%%\n"
    }
   }
  },
  {
   "cell_type": "code",
   "execution_count": 29,
   "outputs": [
    {
     "data": {
      "text/plain": "<Figure size 432x288 with 1 Axes>",
      "image/png": "[encoded data removed]"
     },
     "metadata": {
      "needs_background": "light"
     },
     "output_type": "display_data"
    }
   ],
   "source": [
    "plt.hist(len_df.dropna().values, bins =  [0,20,40,60,80,100,120,140,160,180,200,220,240,260,280,300,500,1000,2000])\n",
    "plt.title(\"combined doc length distribution\")\n",
    "plt.show()\n"
   ],
   "metadata": {
    "collapsed": false,
    "pycharm": {
     "name": "#%%\n"
    }
   }
  },
  {
   "cell_type": "code",
   "execution_count": null,
   "outputs": [],
   "source": [
    "\n"
   ],
   "metadata": {
    "collapsed": false,
    "pycharm": {
     "name": "#%%\n"
    }
   }
  }
 ],
 "metadata": {
  "kernelspec": {
   "name": "python37364bitbaseconda17ad6249b02940119d559e8800b5bbf8",
   "language": "python",
   "display_name": "Python 3.7.3 64-bit ('base': conda)"
  },
  "language_info": {
   "codemirror_mode": {
    "name": "ipython",
    "version": 2
   },
   "file_extension": ".py",
   "mimetype": "text/x-python",
   "name": "python",
   "nbconvert_exporter": "python",
   "pygments_lexer": "ipython2",
   "version": "2.7.6"
  }
 },
 "nbformat": 4,
 "nbformat_minor": 0
}